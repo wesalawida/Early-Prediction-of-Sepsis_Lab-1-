{
 "cells": [
  {
   "cell_type": "markdown",
   "id": "894dfb66",
   "metadata": {
    "pycharm": {
     "name": "#%% md\n"
    }
   },
   "source": [
    "# TL;DR (Final model):"
   ]
  },
  {
   "cell_type": "markdown",
   "id": "8725a15e",
   "metadata": {
    "pycharm": {
     "name": "#%% md\n"
    }
   },
   "source": [
    "This is our final model. Classification is based on Random Forest.\n",
    "   - We tried some different classifiers (MLP, LR, XGBOOST) and we found that the RF gave us the best $F_1$ score.\n",
    "   - Random forest is a simple model, yet powerful and easy to train, and can handle with imbalanced data.\n",
    "   - We handle with the imbalance by some resampling methods (and choose the best).\n",
    "   - We fine-tune our hyper-parameters with Randomized search.\n",
    "   - We didn't use all the features (only part of the vital signs and laboratory values. For more details, plese check our first analysis.\n",
    "   - We measured 3 diffrenet metrics: $F_1$ (requested), $Recall$, as explained before (base model section), this is a significant score when dealing with critical classification of medical data. $ Balanced Accuracy$ -  kind of accuracy, but computed for imbalanced data (like ours). We know that regular accuracy is useless here and non-informative, so this one more robust to the imbalance (but still not standalone).\n",
    "   - We split our training set to train:validation with ratio of 80:20.\n",
    "   - We transform our data in a a special way: for every patient, we took only the main stats (like mean, std, median, max, min 0.25 qunatile and 0.75 quantile) of each column (18 columns) and now we have 18*7=126 features for every patient. Final result contains 1 row of these stats for every patient (instead of full dataframe). This made the data more simple to use, gave us the oppurunity to resample the data with <code>imbalanced-learn</code> package and finally gave us better result than using the data as is."
   ]
  },
  {
   "cell_type": "markdown",
   "id": "b4b0cb99",
   "metadata": {
    "pycharm": {
     "name": "#%% md\n"
    }
   },
   "source": [
    "# Preprocessing:"
   ]
  },
  {
   "cell_type": "code",
   "execution_count": 1,
   "id": "0c9dad04",
   "metadata": {
    "pycharm": {
     "name": "#%%\n"
    }
   },
   "outputs": [],
   "source": [
    "import pandas as pd\n",
    "import numpy as np\n",
    "import joblib\n",
    "from Analysis.utils import concat_data\n",
    "from RF_Classifier.utils import transform_stats\n",
    "from sklearn.preprocessing import StandardScaler\n",
    "from sklearn.model_selection import train_test_split"
   ]
  },
  {
   "cell_type": "markdown",
   "id": "a0fb2fd8",
   "metadata": {
    "pycharm": {
     "name": "#%% md\n"
    }
   },
   "source": [
    "The columns we chose to work with, based on our first analysis and some trials. We work with all the vital signs and with the lab-test result:"
   ]
  },
  {
   "cell_type": "code",
   "execution_count": 2,
   "id": "cc92309a",
   "metadata": {
    "pycharm": {
     "name": "#%%\n"
    }
   },
   "outputs": [],
   "source": [
    "columns = [\"HR\", \"O2Sat\", \"Temp\", \"MAP\", \"Resp\", \"AST\", \"BUN\",\n",
    "           \"Alkalinephos\", \"Calcium\", \"Creatinine\", \"Glucose\", \"Bilirubin_total\",\n",
    "           \"Hgb\", \"PTT\", \"WBC\", \"Fibrinogen\", \"Platelets\", \"ICULOS\"]"
   ]
  },
  {
   "cell_type": "markdown",
   "id": "e2ee5353",
   "metadata": {
    "pycharm": {
     "name": "#%% md\n"
    }
   },
   "source": [
    "Load data and impute missing data (read full docs of 'concat_data' in our <code>RF_Classifier.utils</code> file, simply fill backward&forward / interpolation of nearest values according to the state of the column):"
   ]
  },
  {
   "cell_type": "code",
   "execution_count": 3,
   "id": "bee2760e",
   "metadata": {
    "pycharm": {
     "name": "#%%\n"
    }
   },
   "outputs": [
    {
     "name": "stderr",
     "output_type": "stream",
     "text": [
      "100%|████████████████████████████████████████████████████████████████| 20000/20000 [09:09<00:00, 36.39it/s]\n"
     ]
    }
   ],
   "source": [
    "df = concat_data(src_dir='Data/sliced/train', dst_dir='RF_Data', name='train', impute='rf')"
   ]
  },
  {
   "cell_type": "markdown",
   "id": "ba3f1e51",
   "metadata": {
    "pycharm": {
     "name": "#%% md\n"
    }
   },
   "source": [
    "Transform data to stats only, each patient has now mean, median, std, etc. summerize all his hours in ICU\n",
    "(read docs of 'transform_stats' in our <code>RF_Classifier.utils</code> file)."
   ]
  },
  {
   "cell_type": "code",
   "execution_count": 5,
   "id": "ff27478c",
   "metadata": {
    "pycharm": {
     "name": "#%%\n"
    }
   },
   "outputs": [
    {
     "name": "stderr",
     "output_type": "stream",
     "text": [
      "100%|████████████████████████████████████████████████████████████████| 20000/20000 [15:06<00:00, 22.06it/s]\n"
     ]
    }
   ],
   "source": [
    "tdf = transform_stats(df, columns)\n",
    "transformed_df = tdf.copy()"
   ]
  },
  {
   "cell_type": "code",
   "execution_count": 47,
   "id": "a0190f6e",
   "metadata": {
    "pycharm": {
     "name": "#%%\n"
    }
   },
   "outputs": [
    {
     "data": {
      "text/html": [
       "<div>\n",
       "<style scoped>\n",
       "    .dataframe tbody tr th:only-of-type {\n",
       "        vertical-align: middle;\n",
       "    }\n",
       "\n",
       "    .dataframe tbody tr th {\n",
       "        vertical-align: top;\n",
       "    }\n",
       "\n",
       "    .dataframe thead th {\n",
       "        text-align: right;\n",
       "    }\n",
       "</style>\n",
       "<table border=\"1\" class=\"dataframe\">\n",
       "  <thead>\n",
       "    <tr style=\"text-align: right;\">\n",
       "      <th></th>\n",
       "      <th>HR_count</th>\n",
       "      <th>HR_mean</th>\n",
       "      <th>HR_std</th>\n",
       "      <th>HR_min</th>\n",
       "      <th>HR_25%</th>\n",
       "      <th>HR_50%</th>\n",
       "      <th>HR_75%</th>\n",
       "      <th>HR_max</th>\n",
       "      <th>O2Sat_count</th>\n",
       "      <th>O2Sat_mean</th>\n",
       "      <th>...</th>\n",
       "      <th>ICULOS_count</th>\n",
       "      <th>ICULOS_mean</th>\n",
       "      <th>ICULOS_std</th>\n",
       "      <th>ICULOS_min</th>\n",
       "      <th>ICULOS_25%</th>\n",
       "      <th>ICULOS_50%</th>\n",
       "      <th>ICULOS_75%</th>\n",
       "      <th>ICULOS_max</th>\n",
       "      <th>PatientID</th>\n",
       "      <th>SepsisLabel</th>\n",
       "    </tr>\n",
       "  </thead>\n",
       "  <tbody>\n",
       "    <tr>\n",
       "      <th>0</th>\n",
       "      <td>23.0</td>\n",
       "      <td>60.956522</td>\n",
       "      <td>7.957148</td>\n",
       "      <td>54.0</td>\n",
       "      <td>57.0</td>\n",
       "      <td>60.0</td>\n",
       "      <td>62.5</td>\n",
       "      <td>94.0</td>\n",
       "      <td>23.0</td>\n",
       "      <td>97.086957</td>\n",
       "      <td>...</td>\n",
       "      <td>23.0</td>\n",
       "      <td>12.0</td>\n",
       "      <td>6.782330</td>\n",
       "      <td>1.0</td>\n",
       "      <td>6.5</td>\n",
       "      <td>12.0</td>\n",
       "      <td>17.5</td>\n",
       "      <td>23.0</td>\n",
       "      <td>0</td>\n",
       "      <td>0</td>\n",
       "    </tr>\n",
       "    <tr>\n",
       "      <th>1</th>\n",
       "      <td>25.0</td>\n",
       "      <td>87.760000</td>\n",
       "      <td>6.808573</td>\n",
       "      <td>79.0</td>\n",
       "      <td>82.0</td>\n",
       "      <td>85.0</td>\n",
       "      <td>93.0</td>\n",
       "      <td>101.0</td>\n",
       "      <td>25.0</td>\n",
       "      <td>100.000000</td>\n",
       "      <td>...</td>\n",
       "      <td>25.0</td>\n",
       "      <td>14.0</td>\n",
       "      <td>7.359801</td>\n",
       "      <td>2.0</td>\n",
       "      <td>8.0</td>\n",
       "      <td>14.0</td>\n",
       "      <td>20.0</td>\n",
       "      <td>26.0</td>\n",
       "      <td>1</td>\n",
       "      <td>1</td>\n",
       "    </tr>\n",
       "  </tbody>\n",
       "</table>\n",
       "<p>2 rows × 146 columns</p>\n",
       "</div>"
      ],
      "text/plain": [
       "   HR_count    HR_mean    HR_std  HR_min  HR_25%  HR_50%  HR_75%  HR_max  \\\n",
       "0      23.0  60.956522  7.957148    54.0    57.0    60.0    62.5    94.0   \n",
       "1      25.0  87.760000  6.808573    79.0    82.0    85.0    93.0   101.0   \n",
       "\n",
       "   O2Sat_count  O2Sat_mean  ...  ICULOS_count  ICULOS_mean  ICULOS_std  \\\n",
       "0         23.0   97.086957  ...          23.0         12.0    6.782330   \n",
       "1         25.0  100.000000  ...          25.0         14.0    7.359801   \n",
       "\n",
       "   ICULOS_min  ICULOS_25%  ICULOS_50%  ICULOS_75%  ICULOS_max  PatientID  \\\n",
       "0         1.0         6.5        12.0        17.5        23.0          0   \n",
       "1         2.0         8.0        14.0        20.0        26.0          1   \n",
       "\n",
       "   SepsisLabel  \n",
       "0            0  \n",
       "1            1  \n",
       "\n",
       "[2 rows x 146 columns]"
      ]
     },
     "execution_count": 47,
     "metadata": {},
     "output_type": "execute_result"
    }
   ],
   "source": [
    "transformed_df.head(2)"
   ]
  },
  {
   "cell_type": "markdown",
   "id": "1ddafd5d",
   "metadata": {
    "pycharm": {
     "name": "#%% md\n"
    }
   },
   "source": [
    "Load labels and sort corresponding to the samples (<code>train_labels.csv</code> from our analysis):"
   ]
  },
  {
   "cell_type": "code",
   "execution_count": 7,
   "id": "cfaecc75",
   "metadata": {
    "pycharm": {
     "name": "#%%\n"
    }
   },
   "outputs": [],
   "source": [
    "# train_labels.loc[id: int] returns the label of patient_id.psv\n",
    "train_labels = pd.read_csv('Data/sliced/train_labels.csv', index_col=0)"
   ]
  },
  {
   "cell_type": "code",
   "execution_count": 8,
   "id": "f19f23e6",
   "metadata": {
    "pycharm": {
     "name": "#%%\n"
    }
   },
   "outputs": [],
   "source": [
    "# Add labels\n",
    "transformed_df['SepsisLabel'] = transformed_df['PatientID'].apply(lambda k: int(train_labels.loc[k]))"
   ]
  },
  {
   "cell_type": "code",
   "execution_count": 9,
   "id": "1832ece2",
   "metadata": {
    "pycharm": {
     "name": "#%%\n"
    }
   },
   "outputs": [],
   "source": [
    "transformed_df.to_csv('RF_Data/train_ready_to_go.csv')"
   ]
  },
  {
   "cell_type": "code",
   "execution_count": 10,
   "id": "ff003899",
   "metadata": {
    "pycharm": {
     "name": "#%%\n"
    }
   },
   "outputs": [],
   "source": [
    "X = np.array(transformed_df.drop(columns=['PatientID', 'SepsisLabel']))\n",
    "y = np.array(transformed_df['SepsisLabel'])"
   ]
  },
  {
   "cell_type": "code",
   "execution_count": 62,
   "id": "e5933b93",
   "metadata": {
    "pycharm": {
     "name": "#%%\n"
    }
   },
   "outputs": [
    {
     "name": "stdout",
     "output_type": "stream",
     "text": [
      "Training size: 16000,\tValidation size: 4000.\n"
     ]
    }
   ],
   "source": [
    "# Split:\n",
    "X_train, X_val, y_train, y_val = train_test_split(X, y, test_size=0.2, shuffle=True)\n",
    "print(\"Training size: {},\\tValidation size: {}.\".format(X_train.shape[0], X_val.shape[0]))"
   ]
  },
  {
   "cell_type": "markdown",
   "id": "1853cdb3",
   "metadata": {
    "pycharm": {
     "name": "#%% md\n"
    }
   },
   "source": [
    "# Resampling:"
   ]
  },
  {
   "cell_type": "markdown",
   "id": "aaf4e1d2",
   "metadata": {
    "pycharm": {
     "name": "#%% md\n"
    }
   },
   "source": [
    "We will try some methods both over-sampling and combination of under-over sampling. Some techniques used below are heuristic. We found this library <code>imbalanced-learn</code> (MIT-licensed) very useful, designed to fit sklearn and has great documentation with plots and math formulation. Of course, we'll choose the method that will give the highest score on the validation set after training."
   ]
  },
  {
   "cell_type": "code",
   "execution_count": 12,
   "id": "a6ababa8",
   "metadata": {
    "pycharm": {
     "name": "#%%\n"
    }
   },
   "outputs": [],
   "source": [
    "from imblearn.over_sampling import RandomOverSampler, SMOTE, ADASYN\n",
    "from imblearn.combine import SMOTETomek, SMOTEENN"
   ]
  },
  {
   "cell_type": "code",
   "execution_count": 63,
   "id": "fb12b187",
   "metadata": {
    "pycharm": {
     "name": "#%%\n"
    }
   },
   "outputs": [],
   "source": [
    "X1, y1 = SMOTE(random_state=42).fit_resample(X_train, y_train)\n",
    "X2, y2 = ADASYN(random_state=42).fit_resample(X_train, y_train)\n",
    "ros = RandomOverSampler(random_state=42) # randomly over-sampling with replacement:\n",
    "X3, y3 = ros.fit_resample(X_train, y_train)\n",
    "smote_tomek = SMOTETomek(random_state=42) # Combined method: synthetic minority over-sampling technique:\n",
    "X4, y4 = smote_tomek.fit_resample(X_train, y_train)\n",
    "smote_enn = SMOTEENN(random_state=42) # Combined method: adaptive synthetic sampling:\n",
    "X5, y5 = smote_enn.fit_resample(X_train, y_train)"
   ]
  },
  {
   "cell_type": "markdown",
   "id": "32a2a052",
   "metadata": {
    "pycharm": {
     "name": "#%% md\n"
    }
   },
   "source": [
    "# Training:"
   ]
  },
  {
   "cell_type": "markdown",
   "id": "8b7e3ecc",
   "metadata": {
    "pycharm": {
     "name": "#%% md\n"
    }
   },
   "source": [
    "3 important metrics:\n",
    "    - $F_1$: the main metric of the assignment.\n",
    "    - $Recall$: as explained before (base model section), this is a significant score when dealing with critical classification of medical data.\n",
    "    - $Accuracy_{balanced}$: kind of accuracy, but computed for imbalanced data (like ours). We know that regular accuracy is useless here and non-informative, so this one more robust to the imbalance (but still not standalone)."
   ]
  },
  {
   "cell_type": "markdown",
   "id": "0cefd1c5",
   "metadata": {
    "pycharm": {
     "name": "#%% md\n"
    }
   },
   "source": [
    "### Random forest:"
   ]
  },
  {
   "cell_type": "code",
   "execution_count": 17,
   "id": "545dbfc0",
   "metadata": {
    "pycharm": {
     "name": "#%%\n"
    }
   },
   "outputs": [],
   "source": [
    "from sklearn.metrics import f1_score, balanced_accuracy_score, recall_score\n",
    "from sklearn.ensemble import RandomForestClassifier\n",
    "from sklearn.model_selection import RandomizedSearchCV"
   ]
  },
  {
   "cell_type": "markdown",
   "id": "e637eb96",
   "metadata": {
    "pycharm": {
     "name": "#%% md\n"
    }
   },
   "source": [
    "First, we will tune our random forest (find best hyper-params) with our original train set, witout resampling. Then, we will take these hyper-params and try all the resampling techniques above. Find best hyper parameters:"
   ]
  },
  {
   "cell_type": "code",
   "execution_count": 18,
   "id": "8f07ad62",
   "metadata": {
    "pycharm": {
     "name": "#%%\n"
    }
   },
   "outputs": [],
   "source": [
    "n_estimators = [int(x) for x in np.linspace(start=100, stop=700, num=5)] # Number of trees in random forest\n",
    "max_depth = [int(x) for x in np.linspace(start=10, stop=55, num=5)] # Max number of levels in tree\n",
    "max_depth.append(None)\n",
    "min_samples_split = [2, 3, 4, 5] # Min numbers of samples required to split a node\n",
    "min_samples_leaf = [1, 4, 8] # Min numbers of sample required at each leaf node"
   ]
  },
  {
   "cell_type": "code",
   "execution_count": 19,
   "id": "baf2a449",
   "metadata": {
    "pycharm": {
     "name": "#%%\n"
    }
   },
   "outputs": [],
   "source": [
    "random_grid = {'n_estimators': n_estimators, 'max_depth': max_depth, \n",
    "               'min_samples_split': min_samples_split, 'min_samples_leaf': min_samples_leaf}"
   ]
  },
  {
   "cell_type": "code",
   "execution_count": 20,
   "id": "918e7d38",
   "metadata": {
    "pycharm": {
     "name": "#%%\n"
    }
   },
   "outputs": [],
   "source": [
    "RFC = RandomForestClassifier()\n",
    "RFC_grid = RandomizedSearchCV(estimator=RFC, param_distributions=random_grid,\n",
    "                              n_iter=10, random_state=42, n_jobs=-1, scoring='f1', error_score='raise')"
   ]
  },
  {
   "cell_type": "code",
   "execution_count": null,
   "id": "bd7dd9ac",
   "metadata": {
    "pycharm": {
     "name": "#%%\n"
    },
    "scrolled": false
   },
   "outputs": [],
   "source": [
    "RFC_grid.fit(X_train, y_train)"
   ]
  },
  {
   "cell_type": "code",
   "execution_count": 23,
   "id": "9f746bcb",
   "metadata": {
    "pycharm": {
     "name": "#%%\n"
    }
   },
   "outputs": [
    {
     "name": "stdout",
     "output_type": "stream",
     "text": [
      "F1 base:\t0.6804597701149425\t\tF1 best:\t0.6758620689655173\n"
     ]
    }
   ],
   "source": [
    "# Base model:\n",
    "base_model = RandomForestClassifier()\n",
    "base_model.fit(X_train, y_train)\n",
    "f1_base = f1_score(y_val, base_model.predict(X_val))\n",
    "# Best random\n",
    "best_random = RFC_grid.best_estimator_\n",
    "f1_best = f1_score(y_val, best_random.predict(X_val))\n",
    "print(\"F1 base:\\t{}\\t\\tF1 best:\\t{}\".format(f1_base, f1_best))"
   ]
  },
  {
   "cell_type": "markdown",
   "id": "8730feb8",
   "metadata": {
    "pycharm": {
     "name": "#%% md\n"
    }
   },
   "source": [
    "Now, lets use these hyper-parameters to find the best resampling method:"
   ]
  },
  {
   "cell_type": "code",
   "execution_count": 64,
   "id": "83a1ca80",
   "metadata": {
    "pycharm": {
     "name": "#%%\n"
    }
   },
   "outputs": [],
   "source": [
    "RFC0 = RandomForestClassifier(n_estimators=400 ,n_jobs=-1)\n",
    "RFC1 = RandomForestClassifier(n_estimators=400 ,n_jobs=-1)\n",
    "RFC2 = RandomForestClassifier(n_estimators=400 ,n_jobs=-1)\n",
    "RFC3 = RandomForestClassifier(n_estimators=400 ,n_jobs=-1)\n",
    "RFC4 = RandomForestClassifier(n_estimators=400 ,n_jobs=-1)\n",
    "RFC5 = RandomForestClassifier(n_estimators=400 ,n_jobs=-1)"
   ]
  },
  {
   "cell_type": "code",
   "execution_count": 65,
   "id": "04bd9bc4",
   "metadata": {
    "pycharm": {
     "name": "#%%\n"
    }
   },
   "outputs": [],
   "source": [
    "RFC = [RFC0, RFC1, RFC2, RFC3, RFC4, RFC5]\n",
    "data = [(X_train, y_train), (X1, y1), (X2, y2), (X3, y3), (X4, y4), (X5, y5)]\n",
    "text = ['Without','SMOTE', 'ADASYN', 'Random', 'SMOTETomek', 'SMOTEENN']"
   ]
  },
  {
   "cell_type": "markdown",
   "id": "7825a5cb",
   "metadata": {},
   "source": [
    "Train:"
   ]
  },
  {
   "cell_type": "code",
   "execution_count": 66,
   "id": "94372603",
   "metadata": {
    "pycharm": {
     "name": "#%%\n"
    }
   },
   "outputs": [
    {
     "name": "stdout",
     "output_type": "stream",
     "text": [
      "----- Without resampling: -----\n",
      "\tTrain F1 score: 1.0  \t\tValidation F1 score: 0.7068965517241379\n",
      "\tTrain balanced-accuracy: 1.0  \tValidation balanced-accuracy: 0.7874658597542947\n",
      "\tTrain Recall: 1.0  \t\tValidation Recall: 0.5795053003533569\n",
      "----- SMOTE resampling: -----\n",
      "\tTrain F1 score: 1.0  \t\tValidation F1 score: 0.6856060606060606\n",
      "\tTrain balanced-accuracy: 1.0  \tValidation balanced-accuracy: 0.8111788925108683\n",
      "\tTrain Recall: 1.0  \t\tValidation Recall: 0.6395759717314488\n",
      "----- ADASYN resampling: -----\n",
      "\tTrain F1 score: 1.0  \t\tValidation F1 score: 0.676416819012797\n",
      "\tTrain balanced-accuracy: 1.0  \tValidation balanced-accuracy: 0.8162282740650112\n",
      "\tTrain Recall: 1.0  \t\tValidation Recall: 0.6537102473498233\n",
      "----- Random resampling: -----\n",
      "\tTrain F1 score: 1.0  \t\tValidation F1 score: 0.7142857142857143\n",
      "\tTrain balanced-accuracy: 1.0  \tValidation balanced-accuracy: 0.797259463966058\n",
      "\tTrain Recall: 1.0  \t\tValidation Recall: 0.6007067137809188\n",
      "----- SMOTETomek resampling: -----\n",
      "\tTrain F1 score: 1.0  \t\tValidation F1 score: 0.6883365200764817\n",
      "\tTrain balanced-accuracy: 1.0  \tValidation balanced-accuracy: 0.80995017639325\n",
      "\tTrain Recall: 1.0  \t\tValidation Recall: 0.6360424028268551\n",
      "----- SMOTEENN resampling: -----\n",
      "\tTrain F1 score: 1.0  \t\tValidation F1 score: 0.6644628099173555\n",
      "\tTrain balanced-accuracy: 1.0  \tValidation balanced-accuracy: 0.838847107787636\n",
      "\tTrain Recall: 1.0  \t\tValidation Recall: 0.7102473498233216\n"
     ]
    }
   ],
   "source": [
    "scores = {'$F1$': [], 'Recall': [], 'Balanced Accuracy': []}\n",
    "for i in range(len(RFC)):\n",
    "    X_train = data[i][0]\n",
    "    labels = data[i][1]\n",
    "    RFC[i].fit(X_train, labels)\n",
    "    train_pred = RFC[i].predict(X_train)\n",
    "    val_pred = RFC[i].predict(X_val)\n",
    "    print('----- '+text[i]+' resampling: -----')\n",
    "    score1 = f1_score(y_val, val_pred)\n",
    "    print('\\tTrain F1 score:', f1_score(labels, train_pred), ' \\t\\tValidation F1 score:', score1)\n",
    "    scores['$F1$'].append(score1)\n",
    "    score2 = balanced_accuracy_score(y_val, val_pred)\n",
    "    print('\\tTrain balanced-accuracy:', balanced_accuracy_score(labels, train_pred), ' \\tValidation balanced-accuracy:', score2)\n",
    "    scores['Balanced Accuracy'].append(score2)\n",
    "    score3 = recall_score(y_val, val_pred)\n",
    "    print('\\tTrain Recall:', recall_score(labels, train_pred), ' \\t\\tValidation Recall:', score3)\n",
    "    scores['Recall'].append(score3)"
   ]
  },
  {
   "cell_type": "code",
   "execution_count": 67,
   "id": "9daf5e23",
   "metadata": {},
   "outputs": [
    {
     "data": {
      "image/png": "[encoded data removed]",
      "text/plain": [
       "<Figure size 1152x432 with 1 Axes>"
      ]
     },
     "metadata": {
      "needs_background": "light"
     },
     "output_type": "display_data"
    }
   ],
   "source": [
    "import matplotlib.pyplot as plt\n",
    "plt.style.use('seaborn-deep')\n",
    "df = pd.DataFrame(scores, index=text)\n",
    "ax = df.plot(kind='bar', stacked=False, figsize=(16, 6), rot=0, xlabel='Resmpling Method', ylabel='Score',\n",
    "             title='Resampling Methods Comparison')\n",
    "for p in ax.patches:\n",
    "    ax.annotate(str(p.get_height())[:4], (p.get_x() * 1.005, p.get_height() * 1.005))\n",
    "ax.legend(loc='upper left', bbox_to_anchor=(0.68, 1.1),\n",
    "          ncol=3, fancybox=True, shadow=True)\n",
    "plt.show()"
   ]
  },
  {
   "cell_type": "markdown",
   "id": "35a9d058",
   "metadata": {
    "pycharm": {
     "name": "#%% md\n"
    }
   },
   "source": [
    "We can clearly observe that the first model (without resampling) gave us $F_1=0.7068$ which is a bit higher compare to the other methods. The model that achieved the highest score is trained with random sampling and achieved $F_1=0.7142$ It's interesting that the random is better than math based resampling techniques, but makes sense.   Saving the best model (random oversampling):"
   ]
  },
  {
   "cell_type": "code",
   "execution_count": 68,
   "id": "676bbd44",
   "metadata": {},
   "outputs": [
    {
     "name": "stdout",
     "output_type": "stream",
     "text": [
      "\n"
     ]
    }
   ],
   "source": [
    "[joblib.dump(RFC[i], 'RF_Data/'+text[i]+'.pkl') for i in range(len(RFC))]\n",
    "print(\"\")"
   ]
  },
  {
   "cell_type": "markdown",
   "id": "7f5ebcef",
   "metadata": {
    "pycharm": {
     "name": "#%% md\n"
    }
   },
   "source": [
    "# Conclusion"
   ]
  },
  {
   "cell_type": "markdown",
   "id": "0aed6e9d",
   "metadata": {
    "pycharm": {
     "name": "#%% md\n"
    }
   },
   "source": [
    "1.\tWe conclude that when we have imbalanced data (datasets where the target class has an uneven distribution of observations, i.e one class label has a very high number of observations and the other has a very low number of observations like our dataset), we can't deal with it in the original way (take every patient dateframe and labels and fit in with the models). It gave us a low value of $F1$ score (0.003). So because of that we minimize each patient's data into a single line that has its own data statistics (include those that summarize the central tendency).\n",
    "2.\tOn our base model (LSTM) we tried to insert the data to the model as is was (data frame for each patient). This model gave us a bad $F1$ (0.32) . We concluded that it is not customary to use this data set in this way. We doubled our $F1$ score from our base model to our final try.\n",
    "3.\tWe concluded that data preprocessing and removal of irrelevant data (does not improve or interfere with training) can improve the training process, that is why we took the data that have different distribution between Sepsis patients and non-Sepsis patients.\n",
    "4. Resampling didn't contribute in our final model, but did in our base model (in the LSTM attempts, the random oversampling made all the diffrence).\n",
    "5. Meidcal data is interesting, mainly because it deals with health of humans which is important and it also challenging because the missing data and the inaccuracy of it. In this field, the parameter of interest (Sepsis in our case) is almost always the minor class, and this imbalance doesn't good to us, the researchers."
   ]
  }
 ],
 "metadata": {
  "kernelspec": {
   "display_name": "Python 3 (ipykernel)",
   "language": "python",
   "name": "python3"
  },
  "language_info": {
   "codemirror_mode": {
    "name": "ipython",
    "version": 3
   },
   "file_extension": ".py",
   "mimetype": "text/x-python",
   "name": "python",
   "nbconvert_exporter": "python",
   "pygments_lexer": "ipython3",
   "version": "3.8.13"
  }
 },
 "nbformat": 4,
 "nbformat_minor": 5
}
