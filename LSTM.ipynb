{
 "cells": [
  {
   "cell_type": "markdown",
   "metadata": {
    "pycharm": {
     "name": "#%% md\n"
    }
   },
   "source": [
    "# TL;DR (Base model):"
   ]
  },
  {
   "cell_type": "markdown",
   "metadata": {
    "pycharm": {
     "name": "#%% md\n"
    }
   },
   "source": [
    "Classification is based on LSTM with some hyperparameter optimization. This is our base model.\n",
    "$F_1$ score (on dev set) = $0.321$\n",
    "$Recall$ score (on dev set) = $0.312$\n",
    "\n",
    "- We chose RNN because the data is sequential, therefore we assume that each row has an impact on the next row (in other words, context).\n",
    "- The loss is a binary cross entropy loss, which is particularly good in our case: an unbalanced training set.\n",
    "- We used resampling (specifically random oversampling) to deal with the imbalance.\n",
    "- We also measured $Recall$ (besides $F_1$) because this score proves itself when it comes to medical data and risk of death (by definition, we want to be sure that we didn't miss people who could go at any moment.\n",
    "- We normalized (mean and std) the data to fit our model better.\n",
    "- We impute missing data for each patient by similar (e.g. closest) values, a linear interploation backward and forward. In special cases (no cells to copy from) we fill with the mean value of the column.\n",
    "- As we observed in the analysis, the average time a patient Was in ICU is about 20 hours. In our last run, we used $12$ as our num of rows (taken from tail = last hours).\n",
    "- Regularization: Dropout, $p=0.75$ (trial and error).\n",
    "- We didn't use all the features (for more details, please check <code>Analysis.ipynb</code>."
   ]
  },
  {
   "cell_type": "markdown",
   "metadata": {
    "pycharm": {
     "name": "#%% md\n"
    }
   },
   "source": [
    "# Preprocessing:"
   ]
  },
  {
   "cell_type": "markdown",
   "metadata": {
    "pycharm": {
     "name": "#%% md\n"
    }
   },
   "source": [
    "We work with part of the columns, based on our analysis and further reading. Demographics didn't help to fit our model (actually, the results were better without it) so we dropped those columns. We used some lab-test results that seems to distribute different based on <code>SepsisLabel</code> as we saw in plots and stats."
   ]
  },
  {
   "cell_type": "code",
   "execution_count": 1,
   "metadata": {
    "pycharm": {
     "name": "#%%\n"
    }
   },
   "outputs": [],
   "source": [
    "from Analysis.utils import concat_data, scale_train_data\n",
    "from LSTM_Classifier.utils import transform_trim, zip_sequences\n",
    "from sklearn.model_selection import train_test_split\n",
    "import numpy as np\n",
    "import pandas as pd\n",
    "import importlib"
   ]
  },
  {
   "cell_type": "code",
   "execution_count": 2,
   "metadata": {
    "pycharm": {
     "name": "#%%\n"
    }
   },
   "outputs": [],
   "source": [
    "columns = [\"HR\", \"O2Sat\", \"Temp\", \"MAP\", \"Resp\", \"AST\", \"BUN\",\n",
    "           \"Alkalinephos\", \"Calcium\", \"Creatinine\", \"Glucose\", \"Bilirubin_total\",\n",
    "           \"Hgb\", \"PTT\", \"WBC\", \"Fibrinogen\", \"Platelets\"]"
   ]
  },
  {
   "cell_type": "code",
   "execution_count": 3,
   "metadata": {
    "pycharm": {
     "name": "#%%\n"
    }
   },
   "outputs": [
    {
     "name": "stderr",
     "output_type": "stream",
     "text": [
      "100%|██████████| 20000/20000 [01:47<00:00, 186.68it/s]\n"
     ]
    }
   ],
   "source": [
    "df = concat_data(src_dir='Data/sliced/train', dst_dir='LSTM_Data', name='train', impute='lstm')\n",
    "# df = pd.read_csv('LSTM_Data/train_concatenated.csv', index_col=0)"
   ]
  },
  {
   "cell_type": "code",
   "execution_count": 4,
   "metadata": {
    "pycharm": {
     "name": "#%%\n"
    }
   },
   "outputs": [
    {
     "name": "stderr",
     "output_type": "stream",
     "text": [
      "100%|██████████| 20000/20000 [00:19<00:00, 1005.46it/s]\n"
     ]
    }
   ],
   "source": [
    "tdf = transform_trim(df, columns, r=12)\n",
    "transformed_df = tdf.copy()"
   ]
  },
  {
   "cell_type": "code",
   "execution_count": 5,
   "metadata": {
    "pycharm": {
     "name": "#%%\n"
    }
   },
   "outputs": [
    {
     "data": {
      "text/html": [
       "<div>\n",
       "<style scoped>\n",
       "    .dataframe tbody tr th:only-of-type {\n",
       "        vertical-align: middle;\n",
       "    }\n",
       "\n",
       "    .dataframe tbody tr th {\n",
       "        vertical-align: top;\n",
       "    }\n",
       "\n",
       "    .dataframe thead th {\n",
       "        text-align: right;\n",
       "    }\n",
       "</style>\n",
       "<table border=\"1\" class=\"dataframe\">\n",
       "  <thead>\n",
       "    <tr style=\"text-align: right;\">\n",
       "      <th></th>\n",
       "      <th>HR</th>\n",
       "      <th>O2Sat</th>\n",
       "      <th>Temp</th>\n",
       "      <th>MAP</th>\n",
       "      <th>Resp</th>\n",
       "      <th>AST</th>\n",
       "      <th>BUN</th>\n",
       "      <th>Alkalinephos</th>\n",
       "      <th>Calcium</th>\n",
       "      <th>Creatinine</th>\n",
       "      <th>Glucose</th>\n",
       "      <th>Bilirubin_total</th>\n",
       "      <th>Hgb</th>\n",
       "      <th>PTT</th>\n",
       "      <th>WBC</th>\n",
       "      <th>Fibrinogen</th>\n",
       "      <th>Platelets</th>\n",
       "      <th>PatientID</th>\n",
       "    </tr>\n",
       "  </thead>\n",
       "  <tbody>\n",
       "    <tr>\n",
       "      <th>0</th>\n",
       "      <td>60.0</td>\n",
       "      <td>94.0</td>\n",
       "      <td>36.110000</td>\n",
       "      <td>74.0</td>\n",
       "      <td>12.0</td>\n",
       "      <td>130.972427</td>\n",
       "      <td>100.0</td>\n",
       "      <td>95.728976</td>\n",
       "      <td>7.9</td>\n",
       "      <td>2.5</td>\n",
       "      <td>78.0</td>\n",
       "      <td>1.426839</td>\n",
       "      <td>9.7</td>\n",
       "      <td>35.901121</td>\n",
       "      <td>11.0</td>\n",
       "      <td>308.205753</td>\n",
       "      <td>158.0</td>\n",
       "      <td>0</td>\n",
       "    </tr>\n",
       "    <tr>\n",
       "      <th>1</th>\n",
       "      <td>62.0</td>\n",
       "      <td>95.0</td>\n",
       "      <td>36.110000</td>\n",
       "      <td>72.0</td>\n",
       "      <td>12.0</td>\n",
       "      <td>130.972427</td>\n",
       "      <td>100.0</td>\n",
       "      <td>95.728976</td>\n",
       "      <td>7.9</td>\n",
       "      <td>2.5</td>\n",
       "      <td>78.0</td>\n",
       "      <td>1.426839</td>\n",
       "      <td>9.7</td>\n",
       "      <td>35.901121</td>\n",
       "      <td>11.0</td>\n",
       "      <td>308.205753</td>\n",
       "      <td>158.0</td>\n",
       "      <td>0</td>\n",
       "    </tr>\n",
       "    <tr>\n",
       "      <th>2</th>\n",
       "      <td>63.0</td>\n",
       "      <td>95.0</td>\n",
       "      <td>36.110000</td>\n",
       "      <td>75.0</td>\n",
       "      <td>11.0</td>\n",
       "      <td>130.972427</td>\n",
       "      <td>100.0</td>\n",
       "      <td>95.728976</td>\n",
       "      <td>7.9</td>\n",
       "      <td>2.5</td>\n",
       "      <td>78.0</td>\n",
       "      <td>1.426839</td>\n",
       "      <td>9.7</td>\n",
       "      <td>35.901121</td>\n",
       "      <td>11.0</td>\n",
       "      <td>308.205753</td>\n",
       "      <td>158.0</td>\n",
       "      <td>0</td>\n",
       "    </tr>\n",
       "    <tr>\n",
       "      <th>3</th>\n",
       "      <td>63.0</td>\n",
       "      <td>97.0</td>\n",
       "      <td>36.110000</td>\n",
       "      <td>81.0</td>\n",
       "      <td>11.0</td>\n",
       "      <td>130.972427</td>\n",
       "      <td>100.0</td>\n",
       "      <td>95.728976</td>\n",
       "      <td>7.9</td>\n",
       "      <td>2.5</td>\n",
       "      <td>78.0</td>\n",
       "      <td>1.426839</td>\n",
       "      <td>9.7</td>\n",
       "      <td>35.901121</td>\n",
       "      <td>11.0</td>\n",
       "      <td>308.205753</td>\n",
       "      <td>158.0</td>\n",
       "      <td>0</td>\n",
       "    </tr>\n",
       "    <tr>\n",
       "      <th>4</th>\n",
       "      <td>58.0</td>\n",
       "      <td>94.0</td>\n",
       "      <td>36.073333</td>\n",
       "      <td>58.0</td>\n",
       "      <td>10.0</td>\n",
       "      <td>130.972427</td>\n",
       "      <td>100.0</td>\n",
       "      <td>95.728976</td>\n",
       "      <td>7.9</td>\n",
       "      <td>2.5</td>\n",
       "      <td>78.0</td>\n",
       "      <td>1.426839</td>\n",
       "      <td>9.7</td>\n",
       "      <td>35.901121</td>\n",
       "      <td>11.0</td>\n",
       "      <td>308.205753</td>\n",
       "      <td>158.0</td>\n",
       "      <td>0</td>\n",
       "    </tr>\n",
       "  </tbody>\n",
       "</table>\n",
       "</div>"
      ],
      "text/plain": [
       "     HR  O2Sat       Temp   MAP  Resp         AST    BUN  Alkalinephos  \\\n",
       "0  60.0   94.0  36.110000  74.0  12.0  130.972427  100.0     95.728976   \n",
       "1  62.0   95.0  36.110000  72.0  12.0  130.972427  100.0     95.728976   \n",
       "2  63.0   95.0  36.110000  75.0  11.0  130.972427  100.0     95.728976   \n",
       "3  63.0   97.0  36.110000  81.0  11.0  130.972427  100.0     95.728976   \n",
       "4  58.0   94.0  36.073333  58.0  10.0  130.972427  100.0     95.728976   \n",
       "\n",
       "   Calcium  Creatinine  Glucose  Bilirubin_total  Hgb        PTT   WBC  \\\n",
       "0      7.9         2.5     78.0         1.426839  9.7  35.901121  11.0   \n",
       "1      7.9         2.5     78.0         1.426839  9.7  35.901121  11.0   \n",
       "2      7.9         2.5     78.0         1.426839  9.7  35.901121  11.0   \n",
       "3      7.9         2.5     78.0         1.426839  9.7  35.901121  11.0   \n",
       "4      7.9         2.5     78.0         1.426839  9.7  35.901121  11.0   \n",
       "\n",
       "   Fibrinogen  Platelets  PatientID  \n",
       "0  308.205753      158.0          0  \n",
       "1  308.205753      158.0          0  \n",
       "2  308.205753      158.0          0  \n",
       "3  308.205753      158.0          0  \n",
       "4  308.205753      158.0          0  "
      ]
     },
     "execution_count": 5,
     "metadata": {},
     "output_type": "execute_result"
    }
   ],
   "source": [
    "transformed_df.head()"
   ]
  },
  {
   "cell_type": "markdown",
   "metadata": {
    "pycharm": {
     "name": "#%% md\n"
    }
   },
   "source": [
    "Save feature means (for later use in test):"
   ]
  },
  {
   "cell_type": "code",
   "execution_count": 6,
   "metadata": {
    "pycharm": {
     "name": "#%%\n"
    }
   },
   "outputs": [],
   "source": [
    "means = transformed_df.mean()\n",
    "means.to_csv('LSTM_Data/train_means.csv')"
   ]
  },
  {
   "cell_type": "markdown",
   "metadata": {
    "pycharm": {
     "name": "#%% md\n"
    }
   },
   "source": [
    "Normalize the data ($-\\mu$ $\\hspace{2mm}$ $/\\sigma$):"
   ]
  },
  {
   "cell_type": "code",
   "execution_count": 7,
   "metadata": {
    "pycharm": {
     "name": "#%%\n"
    }
   },
   "outputs": [],
   "source": [
    "# Normalize:\n",
    "X = scale_train_data(transformed_df, method='standard', path='LSTM_Data')\n",
    "X['PatientID'] = transformed_df['PatientID']"
   ]
  },
  {
   "cell_type": "code",
   "execution_count": 8,
   "metadata": {
    "pycharm": {
     "name": "#%%\n"
    }
   },
   "outputs": [],
   "source": [
    "X.to_csv('LSTM_Data/train_ready_to_go.csv') # X = pd.read_csv('LSTM_Data/train_ready_to_go.csv', index_col=0)"
   ]
  },
  {
   "cell_type": "markdown",
   "metadata": {
    "pycharm": {
     "name": "#%% md\n"
    }
   },
   "source": [
    "<code>labels.loc[id]</code> returns the label of <code>patient_id.psv</code>:"
   ]
  },
  {
   "cell_type": "code",
   "execution_count": 9,
   "metadata": {
    "pycharm": {
     "name": "#%%\n"
    }
   },
   "outputs": [],
   "source": [
    "labels = pd.read_csv('Data/sliced/train_labels.csv', index_col=0)"
   ]
  },
  {
   "cell_type": "markdown",
   "metadata": {
    "pycharm": {
     "name": "#%% md\n"
    }
   },
   "source": [
    "Prepare the data for our sequence model. We'll feed our model with the following tuples (features, label, patient_id). patient_id isn't really necessary for training, except for the last part (exporting labels CSV file) so get things ready now (Later, we'll build our custom Dataset class and use it)."
   ]
  },
  {
   "cell_type": "code",
   "execution_count": 10,
   "metadata": {},
   "outputs": [],
   "source": [
    "sequences = zip_sequences(X, labels, columns)"
   ]
  },
  {
   "cell_type": "code",
   "execution_count": 11,
   "metadata": {
    "pycharm": {
     "name": "#%%\n"
    }
   },
   "outputs": [
    {
     "name": "stdout",
     "output_type": "stream",
     "text": [
      "Training size: 16000,\tValidation size: 4000.\n"
     ]
    }
   ],
   "source": [
    "train_sequences, val_sequences = train_test_split(sequences, test_size=0.2 , shuffle=True)\n",
    "print(\"Training size: {},\\tValidation size: {}.\".format(len(train_sequences), len(val_sequences)))"
   ]
  },
  {
   "cell_type": "markdown",
   "metadata": {
    "pycharm": {
     "name": "#%% md\n"
    }
   },
   "source": [
    "# Resampling (oversampling):"
   ]
  },
  {
   "cell_type": "markdown",
   "metadata": {
    "pycharm": {
     "name": "#%% md\n"
    }
   },
   "source": [
    "Random over-sampling, we sampled 1600 samples from the minor class. We didn't add noise to generate new samples and mitigate overfitting just because the values are sensitive it could do more hurt than good."
   ]
  },
  {
   "cell_type": "code",
   "execution_count": 12,
   "metadata": {
    "pycharm": {
     "name": "#%%\n"
    }
   },
   "outputs": [],
   "source": [
    "from sklearn.utils import resample"
   ]
  },
  {
   "cell_type": "code",
   "execution_count": 13,
   "metadata": {
    "pycharm": {
     "name": "#%%\n"
    }
   },
   "outputs": [],
   "source": [
    "positive_idx = [i for i, seq in enumerate(train_sequences) if int(seq[1]) == 1]\n",
    "positive_sequences = [train_sequences[i] for i in positive_idx]"
   ]
  },
  {
   "cell_type": "code",
   "execution_count": 14,
   "metadata": {
    "pycharm": {
     "name": "#%%\n"
    }
   },
   "outputs": [],
   "source": [
    "negative_idx = [i for i in range(len(train_sequences)) if i not in positive_idx]\n",
    "negative_sequences = [train_sequences[i] for i in negative_idx]"
   ]
  },
  {
   "cell_type": "code",
   "execution_count": 15,
   "metadata": {
    "pycharm": {
     "name": "#%%\n"
    }
   },
   "outputs": [],
   "source": [
    "resampled_sequences = train_sequences + resample(positive_sequences, n_samples=1600, random_state=42)"
   ]
  },
  {
   "cell_type": "markdown",
   "metadata": {
    "pycharm": {
     "name": "#%% md\n"
    }
   },
   "source": [
    "# Dataset:"
   ]
  },
  {
   "cell_type": "markdown",
   "metadata": {
    "pycharm": {
     "name": "#%% md\n"
    }
   },
   "source": [
    "We implement our own custom DataSet (for PyTorch). Our full implementation can be found in <code>LSTM_Classifier.SepsisDataset</code>."
   ]
  },
  {
   "cell_type": "code",
   "execution_count": 16,
   "metadata": {
    "pycharm": {
     "name": "#%%\n"
    }
   },
   "outputs": [],
   "source": [
    "from torch.utils.data import DataLoader\n",
    "from LSTM_Classifier.SepsisDataset import SepsisDataset"
   ]
  },
  {
   "cell_type": "code",
   "execution_count": 17,
   "metadata": {
    "pycharm": {
     "name": "#%%\n"
    }
   },
   "outputs": [],
   "source": [
    "train_dataset = SepsisDataset(train_sequences)\n",
    "resampled_dataset = SepsisDataset(resampled_sequences)\n",
    "val_dataset = SepsisDataset(val_sequences)"
   ]
  },
  {
   "cell_type": "code",
   "execution_count": 18,
   "metadata": {
    "pycharm": {
     "name": "#%%\n"
    }
   },
   "outputs": [],
   "source": [
    "BATCH_SIZE = 64"
   ]
  },
  {
   "cell_type": "code",
   "execution_count": 19,
   "metadata": {
    "pycharm": {
     "name": "#%%\n"
    }
   },
   "outputs": [],
   "source": [
    "train_loader = DataLoader(dataset=train_dataset, batch_size=BATCH_SIZE, shuffle=True)\n",
    "resampled_loader = DataLoader(dataset=resampled_dataset, batch_size=BATCH_SIZE, shuffle=True)\n",
    "val_loader = DataLoader(dataset=val_dataset, batch_size=BATCH_SIZE, shuffle=False)"
   ]
  },
  {
   "cell_type": "markdown",
   "metadata": {
    "pycharm": {
     "name": "#%% md\n"
    }
   },
   "source": [
    "# Model"
   ]
  },
  {
   "cell_type": "markdown",
   "metadata": {
    "pycharm": {
     "name": "#%% md\n"
    }
   },
   "source": [
    "LSTM of size 100/64 with 4/6 layers and. Dropout regularization of $p=0.75/0.7$ (found it useful), optimized with Adam optimization algorithm. We took the one who gave the highest score of course. These initial hyper-parameters are nothing more than a guess.\n",
    "Model implementation can be found in <code>LSTM_Classifier.SequenceModel</code>. We tried both methods, with resampled data and without."
   ]
  },
  {
   "cell_type": "code",
   "execution_count": 20,
   "metadata": {
    "pycharm": {
     "name": "#%%\n"
    }
   },
   "outputs": [],
   "source": [
    "import torch\n",
    "import torch.nn as nn\n",
    "import torch.optim as optim\n",
    "from LSTM_Classifier.SequenceModel import SequenceModel"
   ]
  },
  {
   "cell_type": "code",
   "execution_count": 21,
   "metadata": {
    "pycharm": {
     "name": "#%%\n"
    }
   },
   "outputs": [],
   "source": [
    "NUM_EPOCHS = 20\n",
    "LEARNING_RATE = 0.001"
   ]
  },
  {
   "cell_type": "code",
   "execution_count": 22,
   "metadata": {
    "pycharm": {
     "name": "#%%\n"
    }
   },
   "outputs": [],
   "source": [
    "device = torch.device('cuda' if torch.cuda.is_available() else 'cpu')"
   ]
  },
  {
   "cell_type": "code",
   "execution_count": 28,
   "metadata": {},
   "outputs": [],
   "source": [
    "model1 = SequenceModel(n_features=len(columns), n_hidden=100, n_layers=4, dropout=0.75)\n",
    "model1.to(device)\n",
    "model2 = SequenceModel(n_features=len(columns), n_hidden=100, n_layers=4, dropout=0.75)\n",
    "model2.to(device)\n",
    "model3 = SequenceModel(n_features=len(columns), n_hidden=64, n_layers=6, dropout=0.7)\n",
    "model3.to(device)\n",
    "model4 = SequenceModel(n_features=len(columns), n_hidden=64, n_layers=6, dropout=0.7)\n",
    "model4.to(device)\n",
    "model5 = SequenceModel(n_features=len(columns), n_hidden=64, n_layers=7, dropout=0.65)\n",
    "model5.to(device)\n",
    "models = [model1, model2, model3, model4, model5]"
   ]
  },
  {
   "cell_type": "markdown",
   "metadata": {
    "pycharm": {
     "name": "#%% md\n"
    }
   },
   "source": [
    "# Training"
   ]
  },
  {
   "cell_type": "markdown",
   "metadata": {
    "pycharm": {
     "name": "#%% md\n"
    }
   },
   "source": [
    "Cross entropy loss is known as a useful in case of imbalanced data, that's our case."
   ]
  },
  {
   "cell_type": "code",
   "execution_count": 29,
   "metadata": {
    "pycharm": {
     "name": "#%%\n"
    }
   },
   "outputs": [],
   "source": [
    "def train(model, data_loader, criterion = nn.BCEWithLogitsLoss()):\n",
    "    optimizer = optim.Adam(model.parameters(), lr=LEARNING_RATE)\n",
    "    f1_scores = []\n",
    "    recall_scores = []\n",
    "    for epoch in range(NUM_EPOCHS):\n",
    "        TP, FP, FN = 0, 0, 0\n",
    "        for i, (sequences, labels, _) in enumerate(data_loader):\n",
    "            # Send data to device:\n",
    "            sequences = sequences.to(device)\n",
    "            labels = labels.to(device)\n",
    "            # Set all gradients to zero:\n",
    "            optimizer.zero_grad()\n",
    "            # Calculate loss and backprop:\n",
    "            outputs = model(sequences)\n",
    "            loss = criterion(outputs, labels.to(torch.float32))\n",
    "            loss.backward()\n",
    "            optimizer.step()\n",
    "#             # Show progress:\n",
    "#             if i % 30 == 0:\n",
    "#                 print ('Epoch: [{}/{}], Step: [{:03d}/{}], Loss: {:.2}'\n",
    "#                        .format(epoch+1, NUM_EPOCHS, i+1, len(train_dataset)//BATCH_SIZE, loss.item()))\n",
    "            predictions = torch.where(torch.sigmoid(outputs)>0.5, 1, 0)\n",
    "            for j in range(labels.shape[0]):\n",
    "                if labels[j] == 0:\n",
    "                    if predictions[j] == 1:\n",
    "                        FP += 1\n",
    "                else:\n",
    "                    if predictions[j] == 1:\n",
    "                        TP += 1\n",
    "                    else:\n",
    "                        FN += 1\n",
    "        print(\"Counted:\\t\\tTP={}\\tFP={}\\tFN={}\".format(TP, FP, FN))\n",
    "        f1_scores.append(TP/(TP+0.5*(FP+FN)))\n",
    "        recall_scores.append(TP/(TP+FN))\n",
    "    return f1_scores, recall_scores"
   ]
  },
  {
   "cell_type": "code",
   "execution_count": 30,
   "metadata": {
    "pycharm": {
     "name": "#%%\n"
    }
   },
   "outputs": [],
   "source": [
    "titles = ['($\\ell=4, n_h=100, p=0.75$) no resampling',\n",
    "          '($\\ell=4, n_h=100, p=0.75$) oversampling',\n",
    "          '($\\ell=6, n_h=64, p=0.7$) no resampling',\n",
    "          '($\\ell=6, n_h=64, p=0.7$) oversampling',\n",
    "          '($\\ell=7, n_h=64, p=0.65$) oversampling']\n",
    "loaders = [train_loader, resampled_loader, train_loader, resampled_loader, resampled_loader]\n",
    "f1 = []\n",
    "recall = []"
   ]
  },
  {
   "cell_type": "markdown",
   "metadata": {
    "pycharm": {
     "name": "#%% md\n"
    }
   },
   "source": [
    "We can see on the prints below the <code>TP</code>, <code>FP</code>, <code>FN</code> stats every epoch and see how effective is the random oversampling. While the regular train set missed almost every possible prediction, the resampled train predicted right. This is not a fact, we will evaluate later:"
   ]
  },
  {
   "cell_type": "code",
   "execution_count": 31,
   "metadata": {},
   "outputs": [
    {
     "name": "stdout",
     "output_type": "stream",
     "text": [
      "\n",
      "\n",
      "\n",
      "---------------\t($\\ell=4, n_h=100, p=0.75$) no resampling\t---------------\n",
      "Counted:\t\tTP=9\tFP=47\tFN=1140\n",
      "Counted:\t\tTP=0\tFP=0\tFN=1149\n",
      "Counted:\t\tTP=0\tFP=1\tFN=1149\n",
      "Counted:\t\tTP=22\tFP=10\tFN=1127\n",
      "Counted:\t\tTP=143\tFP=43\tFN=1006\n",
      "Counted:\t\tTP=150\tFP=25\tFN=999\n",
      "Counted:\t\tTP=141\tFP=13\tFN=1008\n",
      "Counted:\t\tTP=170\tFP=37\tFN=979\n",
      "Counted:\t\tTP=165\tFP=31\tFN=984\n",
      "Counted:\t\tTP=187\tFP=32\tFN=962\n",
      "Counted:\t\tTP=225\tFP=73\tFN=924\n",
      "Counted:\t\tTP=249\tFP=61\tFN=900\n",
      "Counted:\t\tTP=289\tFP=113\tFN=860\n",
      "Counted:\t\tTP=302\tFP=119\tFN=847\n",
      "Counted:\t\tTP=342\tFP=129\tFN=807\n",
      "Counted:\t\tTP=375\tFP=131\tFN=774\n",
      "Counted:\t\tTP=400\tFP=158\tFN=749\n",
      "Counted:\t\tTP=431\tFP=144\tFN=718\n",
      "Counted:\t\tTP=460\tFP=148\tFN=689\n",
      "Counted:\t\tTP=483\tFP=159\tFN=666\n",
      "\n",
      "\n",
      "\n",
      "---------------\t($\\ell=4, n_h=100, p=0.75$) oversampling\t---------------\n",
      "Counted:\t\tTP=4\tFP=8\tFN=2745\n",
      "Counted:\t\tTP=249\tFP=190\tFN=2500\n",
      "Counted:\t\tTP=732\tFP=318\tFN=2017\n",
      "Counted:\t\tTP=852\tFP=390\tFN=1897\n",
      "Counted:\t\tTP=990\tFP=436\tFN=1759\n",
      "Counted:\t\tTP=1174\tFP=511\tFN=1575\n",
      "Counted:\t\tTP=1270\tFP=501\tFN=1479\n",
      "Counted:\t\tTP=1383\tFP=539\tFN=1366\n",
      "Counted:\t\tTP=1458\tFP=545\tFN=1291\n",
      "Counted:\t\tTP=1580\tFP=494\tFN=1169\n",
      "Counted:\t\tTP=1596\tFP=465\tFN=1153\n",
      "Counted:\t\tTP=1712\tFP=469\tFN=1037\n",
      "Counted:\t\tTP=1805\tFP=458\tFN=944\n",
      "Counted:\t\tTP=1865\tFP=431\tFN=884\n",
      "Counted:\t\tTP=1929\tFP=440\tFN=820\n",
      "Counted:\t\tTP=1964\tFP=389\tFN=785\n",
      "Counted:\t\tTP=2059\tFP=392\tFN=690\n",
      "Counted:\t\tTP=2070\tFP=344\tFN=679\n",
      "Counted:\t\tTP=2085\tFP=329\tFN=664\n",
      "Counted:\t\tTP=2122\tFP=323\tFN=627\n",
      "\n",
      "\n",
      "\n",
      "---------------\t($\\ell=6, n_h=64, p=0.7$) no resampling\t---------------\n",
      "Counted:\t\tTP=3\tFP=56\tFN=1146\n",
      "Counted:\t\tTP=0\tFP=0\tFN=1149\n",
      "Counted:\t\tTP=0\tFP=0\tFN=1149\n",
      "Counted:\t\tTP=69\tFP=33\tFN=1080\n",
      "Counted:\t\tTP=138\tFP=40\tFN=1011\n",
      "Counted:\t\tTP=133\tFP=12\tFN=1016\n",
      "Counted:\t\tTP=146\tFP=6\tFN=1003\n",
      "Counted:\t\tTP=146\tFP=7\tFN=1003\n",
      "Counted:\t\tTP=145\tFP=12\tFN=1004\n",
      "Counted:\t\tTP=153\tFP=9\tFN=996\n",
      "Counted:\t\tTP=156\tFP=12\tFN=993\n",
      "Counted:\t\tTP=162\tFP=21\tFN=987\n",
      "Counted:\t\tTP=139\tFP=7\tFN=1010\n",
      "Counted:\t\tTP=146\tFP=11\tFN=1003\n",
      "Counted:\t\tTP=159\tFP=18\tFN=990\n",
      "Counted:\t\tTP=164\tFP=18\tFN=985\n",
      "Counted:\t\tTP=164\tFP=18\tFN=985\n",
      "Counted:\t\tTP=167\tFP=20\tFN=982\n",
      "Counted:\t\tTP=201\tFP=56\tFN=948\n",
      "Counted:\t\tTP=207\tFP=61\tFN=942\n",
      "\n",
      "\n",
      "\n",
      "---------------\t($\\ell=6, n_h=64, p=0.7$) oversampling\t---------------\n",
      "Counted:\t\tTP=18\tFP=53\tFN=2731\n",
      "Counted:\t\tTP=90\tFP=51\tFN=2659\n",
      "Counted:\t\tTP=404\tFP=175\tFN=2345\n",
      "Counted:\t\tTP=544\tFP=197\tFN=2205\n",
      "Counted:\t\tTP=600\tFP=214\tFN=2149\n",
      "Counted:\t\tTP=687\tFP=292\tFN=2062\n",
      "Counted:\t\tTP=873\tFP=410\tFN=1876\n",
      "Counted:\t\tTP=1019\tFP=516\tFN=1730\n",
      "Counted:\t\tTP=1177\tFP=616\tFN=1572\n",
      "Counted:\t\tTP=1323\tFP=649\tFN=1426\n",
      "Counted:\t\tTP=1433\tFP=688\tFN=1316\n",
      "Counted:\t\tTP=1555\tFP=661\tFN=1194\n",
      "Counted:\t\tTP=1627\tFP=702\tFN=1122\n",
      "Counted:\t\tTP=1699\tFP=681\tFN=1050\n",
      "Counted:\t\tTP=1817\tFP=675\tFN=932\n",
      "Counted:\t\tTP=1772\tFP=637\tFN=977\n",
      "Counted:\t\tTP=1876\tFP=637\tFN=873\n",
      "Counted:\t\tTP=1869\tFP=589\tFN=880\n",
      "Counted:\t\tTP=1941\tFP=581\tFN=808\n",
      "Counted:\t\tTP=1931\tFP=532\tFN=818\n",
      "\n",
      "\n",
      "\n",
      "---------------\t($\\ell=7, n_h=64, p=0.65$) oversampling\t---------------\n",
      "Counted:\t\tTP=0\tFP=0\tFN=2749\n",
      "Counted:\t\tTP=13\tFP=10\tFN=2736\n",
      "Counted:\t\tTP=564\tFP=433\tFN=2185\n",
      "Counted:\t\tTP=873\tFP=449\tFN=1876\n",
      "Counted:\t\tTP=919\tFP=409\tFN=1830\n",
      "Counted:\t\tTP=1074\tFP=418\tFN=1675\n",
      "Counted:\t\tTP=1177\tFP=453\tFN=1572\n",
      "Counted:\t\tTP=1282\tFP=485\tFN=1467\n",
      "Counted:\t\tTP=1328\tFP=446\tFN=1421\n",
      "Counted:\t\tTP=1450\tFP=432\tFN=1299\n",
      "Counted:\t\tTP=1500\tFP=411\tFN=1249\n",
      "Counted:\t\tTP=1567\tFP=444\tFN=1182\n",
      "Counted:\t\tTP=1675\tFP=438\tFN=1074\n",
      "Counted:\t\tTP=1733\tFP=432\tFN=1016\n",
      "Counted:\t\tTP=1772\tFP=406\tFN=977\n",
      "Counted:\t\tTP=1840\tFP=423\tFN=909\n",
      "Counted:\t\tTP=1842\tFP=393\tFN=907\n",
      "Counted:\t\tTP=1948\tFP=409\tFN=801\n",
      "Counted:\t\tTP=1986\tFP=383\tFN=763\n",
      "Counted:\t\tTP=2017\tFP=347\tFN=732\n"
     ]
    }
   ],
   "source": [
    "for i in range(len(models)):\n",
    "    print('\\n\\n\\n---------------\\t'+titles[i]+'\\t---------------')\n",
    "    f1_scores, recall_scores = train(models[i], loaders[i])\n",
    "    f1.append(f1_scores)\n",
    "    recall.append(recall_scores)"
   ]
  },
  {
   "cell_type": "code",
   "execution_count": 34,
   "metadata": {},
   "outputs": [
    {
     "name": "stdout",
     "output_type": "stream",
     "text": [
      "---------------------------------\n",
      "($\\ell=4, n_h=100, p=0.75$) no resampling:\n",
      "\n",
      "\tF1:\t\t 0.5393634840871022\n",
      "\tRecall:\t\t 0.42036553524804177\n",
      "---------------------------------\n",
      "($\\ell=4, n_h=100, p=0.75$) oversampling:\n",
      "\n",
      "\tF1:\t\t 0.817096649980747\n",
      "\tRecall:\t\t 0.7719170607493634\n",
      "---------------------------------\n",
      "($\\ell=6, n_h=64, p=0.7$) no resampling:\n",
      "\n",
      "\tF1:\t\t 0.292166549047283\n",
      "\tRecall:\t\t 0.1801566579634465\n",
      "---------------------------------\n",
      "($\\ell=6, n_h=64, p=0.7$) oversampling:\n",
      "\n",
      "\tF1:\t\t 0.7409823484267076\n",
      "\tRecall:\t\t 0.7024372499090579\n",
      "---------------------------------\n",
      "($\\ell=7, n_h=64, p=0.65$) oversampling:\n",
      "\n",
      "\tF1:\t\t 0.7889692939565812\n",
      "\tRecall:\t\t 0.7337213532193525\n"
     ]
    }
   ],
   "source": [
    "for i in range(len(models)):\n",
    "    print('---------------------------------')\n",
    "    print(titles[i]+':\\n')\n",
    "    print(\"\\tF1:\\t\\t\", f1[i][-1])\n",
    "    print(\"\\tRecall:\\t\\t\", recall[i][-1])"
   ]
  },
  {
   "cell_type": "code",
   "execution_count": 35,
   "metadata": {
    "pycharm": {
     "name": "#%%\n"
    }
   },
   "outputs": [],
   "source": [
    "import matplotlib.pyplot as plt"
   ]
  },
  {
   "cell_type": "code",
   "execution_count": 36,
   "metadata": {
    "pycharm": {
     "name": "#%%\n"
    }
   },
   "outputs": [
    {
     "data": {
      "image/png": "[encoded data removed]",
      "text/plain": [
       "<Figure size 1440x720 with 1 Axes>"
      ]
     },
     "metadata": {
      "needs_background": "light"
     },
     "output_type": "display_data"
    }
   ],
   "source": [
    "x = range(1,NUM_EPOCHS+1)\n",
    "_ = plt.figure(figsize=(20, 10))\n",
    "colors = [['tab:orange', 'tab:pink'], ['r', 'm'], ['lime', 'goldenrod'], ['c', 'b'], ['tomato', 'deeppink']]\n",
    "markers = ['o', 'X', 'v', 'P', 'D']\n",
    "for i in range(len(models)):\n",
    "    _ = plt.plot(x, f1[i], label='$F_1$: '+titles[i], c=colors[i][0], marker=markers[i], ms=5, mfc='k')\n",
    "    _ = plt.plot(x, recall[i], label='$Recall$: '+titles[i], c=colors[i][1], marker=markers[i], ms=5, mfc='k')\n",
    "_ = plt.legend()\n",
    "_ = plt.grid()\n",
    "_ = plt.xlabel(\"$Epoch$\")\n",
    "_ = plt.ylabel(\"$Score$\")\n",
    "_ = plt.title(\"Model Scores Comparison\")\n",
    "plt.show()"
   ]
  },
  {
   "cell_type": "markdown",
   "metadata": {
    "pycharm": {
     "name": "#%% md\n"
    }
   },
   "source": [
    "# Validation"
   ]
  },
  {
   "cell_type": "code",
   "execution_count": 37,
   "metadata": {
    "pycharm": {
     "name": "#%%\n"
    }
   },
   "outputs": [],
   "source": [
    "import datetime"
   ]
  },
  {
   "cell_type": "code",
   "execution_count": 38,
   "metadata": {
    "pycharm": {
     "name": "#%%\n"
    }
   },
   "outputs": [],
   "source": [
    "def evaluate(model, loader, title):\n",
    "    model.eval()\n",
    "    TP, FP, FN = 0, 0, 0\n",
    "    for i, (sequences, labels, _) in enumerate(loader):\n",
    "        # Send data to device:\n",
    "        sequences = sequences.to(device)\n",
    "        labels = labels.to(device)\n",
    "        # Predict:\n",
    "        outputs = model(sequences)\n",
    "        predictions = torch.FloatTensor([1 if x>0.5 else 0 for x in torch.sigmoid(outputs)])\n",
    "        labels = labels.reshape(labels.shape[0])\n",
    "        for j in range(labels.shape[0]):\n",
    "            if labels[j] == 0:\n",
    "                if predictions[j] == 1:\n",
    "                    FP += 1\n",
    "            else:\n",
    "                if predictions[j] == 1:\n",
    "                    TP += 1\n",
    "                else:\n",
    "                    FN += 1\n",
    "    f1 = TP/(TP+0.5*(FP+FN))\n",
    "    recall = TP/(TP+FN)\n",
    "    print('---------------\\t'+title+'\\t---------------')\n",
    "    print(\"F1 = {}\\nRecall = {}\\n\".format(f1, recall))"
   ]
  },
  {
   "cell_type": "code",
   "execution_count": 39,
   "metadata": {
    "pycharm": {
     "name": "#%%\n"
    }
   },
   "outputs": [
    {
     "name": "stdout",
     "output_type": "stream",
     "text": [
      "---------------\t($\\ell=4, n_h=100, p=0.75$) no resampling\t---------------\n",
      "F1 = 0.30288461538461536\n",
      "Recall = 0.23684210526315788\n",
      "\n",
      "---------------\t($\\ell=4, n_h=100, p=0.75$) oversampling\t---------------\n",
      "F1 = 0.32170542635658916\n",
      "Recall = 0.31203007518796994\n",
      "\n",
      "---------------\t($\\ell=6, n_h=64, p=0.7$) no resampling\t---------------\n",
      "F1 = 0.19047619047619047\n",
      "Recall = 0.10526315789473684\n",
      "\n",
      "---------------\t($\\ell=6, n_h=64, p=0.7$) oversampling\t---------------\n",
      "F1 = 0.31956912028725315\n",
      "Recall = 0.33458646616541354\n",
      "\n",
      "---------------\t($\\ell=7, n_h=64, p=0.65$) oversampling\t---------------\n",
      "F1 = 0.27944111776447106\n",
      "Recall = 0.2631578947368421\n",
      "\n"
     ]
    }
   ],
   "source": [
    "for i in range (len(models)):\n",
    "    evaluate(models[i], val_loader, titles[i])"
   ]
  },
  {
   "cell_type": "markdown",
   "metadata": {
    "pycharm": {
     "name": "#%% md\n"
    }
   },
   "source": [
    "As we can see, the oversampling plays key role here in the results. We don't optimize the parameters anymore because this is our base model, specific with size 100 (hidden), 4 layers, dropout w.p. $0.75$ and random oversampling which gave us the score $F_1=0.321$ on the validation set. That's it. Next we'll try different models from a different approach (ignoring the fact that the data is sequential and preprocess in a new way based on some important stats)."
   ]
  },
  {
   "cell_type": "code",
   "execution_count": 40,
   "metadata": {
    "pycharm": {
     "name": "#%%\n"
    }
   },
   "outputs": [],
   "source": [
    "basename = \"LSTM_Data/model_created\"\n",
    "suffix = datetime.datetime.now().strftime(\"%H_%M\")\n",
    "filename = \"_\".join([basename, suffix])\n",
    "\n",
    "torch.save(model2.state_dict(), filename+'.pkl')"
   ]
  }
 ],
 "metadata": {
  "kernelspec": {
   "display_name": "Python 3 (ipykernel)",
   "language": "python",
   "name": "python3"
  },
  "language_info": {
   "codemirror_mode": {
    "name": "ipython",
    "version": 3
   },
   "file_extension": ".py",
   "mimetype": "text/x-python",
   "name": "python",
   "nbconvert_exporter": "python",
   "pygments_lexer": "ipython3",
   "version": "3.8.13"
  }
 },
 "nbformat": 4,
 "nbformat_minor": 1
}
