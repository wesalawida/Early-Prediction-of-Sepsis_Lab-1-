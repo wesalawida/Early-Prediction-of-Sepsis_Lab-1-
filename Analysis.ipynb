{
 "cells": [
  {
   "cell_type": "markdown",
   "metadata": {
    "pycharm": {
     "name": "#%% md\n"
    }
   },
   "source": [
    "# Exploratory Data Analysis"
   ]
  },
  {
   "cell_type": "markdown",
   "metadata": {
    "pycharm": {
     "name": "#%% md\n"
    }
   },
   "source": [
    "30000 patients: for each one, we have 40 features collected during his stay in the hospital ICU.\n",
    "8 of them are vital signs of Sepsis, 26 are laboratory values (lab test result), and 6 are demographic/administrative values.\n",
    "Before starting, we'll extract and slice the data:"
   ]
  },
  {
   "cell_type": "code",
   "execution_count": 1,
   "metadata": {
    "pycharm": {
     "name": "#%%\n"
    }
   },
   "outputs": [],
   "source": [
    "import os\n",
    "import shutil\n",
    "import numpy as np\n",
    "import pandas as pd\n",
    "import matplotlib.pyplot as plt\n",
    "from Analysis.utils import load_data, slice_data, concat_data # our own utils file, implemantation on github"
   ]
  },
  {
   "cell_type": "code",
   "execution_count": 2,
   "metadata": {
    "pycharm": {
     "name": "#%%\n"
    }
   },
   "outputs": [
    {
     "name": "stderr",
     "output_type": "stream",
     "text": [
      "Progress: 100%|█████████████████████████████████████████████████████| 20000/20000 [01:09<00:00, 289.26it/s]\n",
      "Progress: 100%|█████████████████████████████████████████████████████| 10000/10000 [00:34<00:00, 291.82it/s]\n"
     ]
    },
    {
     "data": {
      "text/plain": [
       "'Data/sliced/test_labels.csv'"
      ]
     },
     "execution_count": 2,
     "metadata": {},
     "output_type": "execute_result"
    }
   ],
   "source": [
    "load_data(tar_file='data.tar')\n",
    "os.mkdir('Data/sliced')\n",
    "# Train:\n",
    "os.mkdir('Data/sliced/train')\n",
    "slice_data('Data/raw/train', 'Data/sliced/train')\n",
    "shutil.move('Data/sliced/train/labels.csv', 'Data/sliced/train_labels.csv')\n",
    "# Test:\n",
    "os.mkdir('Data/sliced/test')\n",
    "slice_data('Data/raw/test', 'Data/sliced/test')\n",
    "shutil.move('Data/sliced/test/labels.csv', 'Data/sliced/test_labels.csv')"
   ]
  },
  {
   "cell_type": "code",
   "execution_count": 3,
   "metadata": {
    "pycharm": {
     "name": "#%%\n"
    }
   },
   "outputs": [
    {
     "name": "stderr",
     "output_type": "stream",
     "text": [
      "100%|███████████████████████████████████████████████████████████████| 20000/20000 [00:41<00:00, 482.97it/s]\n"
     ]
    }
   ],
   "source": [
    "train_df = concat_data(src_dir='Data/sliced/train', dst_dir='Data/sliced', name='train')"
   ]
  },
  {
   "cell_type": "code",
   "execution_count": 4,
   "metadata": {},
   "outputs": [
    {
     "data": {
      "text/html": [
       "<div>\n",
       "<style scoped>\n",
       "    .dataframe tbody tr th:only-of-type {\n",
       "        vertical-align: middle;\n",
       "    }\n",
       "\n",
       "    .dataframe tbody tr th {\n",
       "        vertical-align: top;\n",
       "    }\n",
       "\n",
       "    .dataframe thead th {\n",
       "        text-align: right;\n",
       "    }\n",
       "</style>\n",
       "<table border=\"1\" class=\"dataframe\">\n",
       "  <thead>\n",
       "    <tr style=\"text-align: right;\">\n",
       "      <th></th>\n",
       "      <th>HR</th>\n",
       "      <th>O2Sat</th>\n",
       "      <th>Temp</th>\n",
       "      <th>SBP</th>\n",
       "      <th>MAP</th>\n",
       "      <th>DBP</th>\n",
       "      <th>Resp</th>\n",
       "      <th>EtCO2</th>\n",
       "      <th>BaseExcess</th>\n",
       "      <th>HCO3</th>\n",
       "      <th>...</th>\n",
       "      <th>WBC</th>\n",
       "      <th>Fibrinogen</th>\n",
       "      <th>Platelets</th>\n",
       "      <th>Age</th>\n",
       "      <th>Gender</th>\n",
       "      <th>Unit1</th>\n",
       "      <th>Unit2</th>\n",
       "      <th>HospAdmTime</th>\n",
       "      <th>ICULOS</th>\n",
       "      <th>PatientID</th>\n",
       "    </tr>\n",
       "  </thead>\n",
       "  <tbody>\n",
       "    <tr>\n",
       "      <th>0</th>\n",
       "      <td>NaN</td>\n",
       "      <td>NaN</td>\n",
       "      <td>NaN</td>\n",
       "      <td>NaN</td>\n",
       "      <td>NaN</td>\n",
       "      <td>NaN</td>\n",
       "      <td>NaN</td>\n",
       "      <td>NaN</td>\n",
       "      <td>NaN</td>\n",
       "      <td>NaN</td>\n",
       "      <td>...</td>\n",
       "      <td>NaN</td>\n",
       "      <td>NaN</td>\n",
       "      <td>NaN</td>\n",
       "      <td>77.0</td>\n",
       "      <td>0</td>\n",
       "      <td>NaN</td>\n",
       "      <td>NaN</td>\n",
       "      <td>-679.93</td>\n",
       "      <td>1</td>\n",
       "      <td>10022</td>\n",
       "    </tr>\n",
       "    <tr>\n",
       "      <th>1</th>\n",
       "      <td>58.5</td>\n",
       "      <td>96.0</td>\n",
       "      <td>NaN</td>\n",
       "      <td>133.0</td>\n",
       "      <td>54.0</td>\n",
       "      <td>30.0</td>\n",
       "      <td>28.5</td>\n",
       "      <td>NaN</td>\n",
       "      <td>NaN</td>\n",
       "      <td>NaN</td>\n",
       "      <td>...</td>\n",
       "      <td>NaN</td>\n",
       "      <td>NaN</td>\n",
       "      <td>NaN</td>\n",
       "      <td>77.0</td>\n",
       "      <td>0</td>\n",
       "      <td>NaN</td>\n",
       "      <td>NaN</td>\n",
       "      <td>-679.93</td>\n",
       "      <td>2</td>\n",
       "      <td>10022</td>\n",
       "    </tr>\n",
       "    <tr>\n",
       "      <th>2</th>\n",
       "      <td>54.0</td>\n",
       "      <td>97.0</td>\n",
       "      <td>36.4</td>\n",
       "      <td>128.0</td>\n",
       "      <td>58.0</td>\n",
       "      <td>36.0</td>\n",
       "      <td>23.0</td>\n",
       "      <td>NaN</td>\n",
       "      <td>NaN</td>\n",
       "      <td>NaN</td>\n",
       "      <td>...</td>\n",
       "      <td>NaN</td>\n",
       "      <td>NaN</td>\n",
       "      <td>NaN</td>\n",
       "      <td>77.0</td>\n",
       "      <td>0</td>\n",
       "      <td>NaN</td>\n",
       "      <td>NaN</td>\n",
       "      <td>-679.93</td>\n",
       "      <td>3</td>\n",
       "      <td>10022</td>\n",
       "    </tr>\n",
       "  </tbody>\n",
       "</table>\n",
       "<p>3 rows × 41 columns</p>\n",
       "</div>"
      ],
      "text/plain": [
       "     HR  O2Sat  Temp    SBP   MAP   DBP  Resp  EtCO2  BaseExcess  HCO3  ...  \\\n",
       "0   NaN    NaN   NaN    NaN   NaN   NaN   NaN    NaN         NaN   NaN  ...   \n",
       "1  58.5   96.0   NaN  133.0  54.0  30.0  28.5    NaN         NaN   NaN  ...   \n",
       "2  54.0   97.0  36.4  128.0  58.0  36.0  23.0    NaN         NaN   NaN  ...   \n",
       "\n",
       "   WBC  Fibrinogen  Platelets   Age  Gender  Unit1  Unit2  HospAdmTime  \\\n",
       "0  NaN         NaN        NaN  77.0       0    NaN    NaN      -679.93   \n",
       "1  NaN         NaN        NaN  77.0       0    NaN    NaN      -679.93   \n",
       "2  NaN         NaN        NaN  77.0       0    NaN    NaN      -679.93   \n",
       "\n",
       "   ICULOS  PatientID  \n",
       "0       1      10022  \n",
       "1       2      10022  \n",
       "2       3      10022  \n",
       "\n",
       "[3 rows x 41 columns]"
      ]
     },
     "execution_count": 4,
     "metadata": {},
     "output_type": "execute_result"
    }
   ],
   "source": [
    "train_df.head(3)"
   ]
  },
  {
   "cell_type": "markdown",
   "metadata": {
    "pycharm": {
     "name": "#%% md\n"
    }
   },
   "source": [
    "<code>train_df</code> is our full training set (20000 patients). Since the distribution of the data assumed to be real, we will analyze only the training set."
   ]
  },
  {
   "cell_type": "code",
   "execution_count": 8,
   "metadata": {},
   "outputs": [
    {
     "name": "stdout",
     "output_type": "stream",
     "text": [
      "Vital:\t\t\t['HR', 'O2Sat', 'Temp', 'SBP', 'MAP', 'DBP', 'Resp', 'EtCO2']\n",
      "Lab test results:\t['BaseExcess', 'HCO3', 'FiO2', 'pH', 'PaCO2', 'SaO2', 'AST', 'BUN', 'Alkalinephos', 'Calcium', 'Chloride', 'Creatinine', 'Bilirubin_direct', 'Glucose', 'Lactate', 'Magnesium', 'Phosphate', 'Potassium', 'Bilirubin_total', 'TroponinI', 'Hct', 'Hgb', 'PTT', 'WBC', 'Fibrinogen', 'Platelets']\n",
      "Administrative:\t\t['Gender', 'Unit1', 'Unit2', 'HospAdmTime', 'ICULOS', 'PatientID']\n"
     ]
    }
   ],
   "source": [
    "cols = train_df.columns\n",
    "vital, lab, administrative = cols[:8], cols[8:34], cols[35:]\n",
    "print(\"Vital:\\t\\t\\t{}\".format(list(vital)))\n",
    "print(\"Lab test results:\\t{}\".format(list(lab)))\n",
    "print(\"Administrative:\\t\\t{}\".format(list(administrative)))"
   ]
  },
  {
   "cell_type": "markdown",
   "metadata": {
    "pycharm": {
     "name": "#%% md\n"
    }
   },
   "source": [
    "## Imbalance:\n",
    "We experiment with a highly imbalanced dataset. Load train labels we save above:"
   ]
  },
  {
   "cell_type": "code",
   "execution_count": 9,
   "metadata": {},
   "outputs": [],
   "source": [
    "labels = pd.read_csv('Data/sliced/train_labels.csv', index_col=0) # labels.loc[id: int] returns the label of patient_id.psv"
   ]
  },
  {
   "cell_type": "markdown",
   "metadata": {
    "pycharm": {
     "name": "#%% md\n"
    }
   },
   "source": [
    "The ratio of the first class (<code>SepsisLabel == 1</code> or positive) to the second class (<code>SepsisLabel == 0</code> or negative) instances is:"
   ]
  },
  {
   "cell_type": "code",
   "execution_count": 10,
   "metadata": {
    "pycharm": {
     "name": "#%%\n"
    }
   },
   "outputs": [
    {
     "name": "stdout",
     "output_type": "stream",
     "text": [
      "Ratio: 13.13 : 1.\n"
     ]
    }
   ],
   "source": [
    "positive_size = len(labels.loc[labels['label'] == 1])\n",
    "negative_size = len(labels.loc[labels['label'] == 0])\n",
    "print('Ratio: {:.2f} : 1.'.format(negative_size/positive_size, positive_size))"
   ]
  },
  {
   "cell_type": "code",
   "execution_count": 11,
   "metadata": {
    "pycharm": {
     "name": "#%%\n"
    }
   },
   "outputs": [
    {
     "data": {
      "image/png": "[encoded data removed]",
      "text/plain": [
       "<Figure size 432x288 with 1 Axes>"
      ]
     },
     "metadata": {},
     "output_type": "display_data"
    }
   ],
   "source": [
    "negative_percent = negative_size/len(labels.index)\n",
    "positive_percent = positive_size/len(labels.index)\n",
    "titles = ['No Sepsis', 'Sepsis']\n",
    "percents = [negative_percent, positive_percent]\n",
    "fig, ax = plt.subplots()\n",
    "ax.pie(percents, labels=titles, autopct='%1.0f%%')\n",
    "plt.show()"
   ]
  },
  {
   "cell_type": "markdown",
   "metadata": {
    "pycharm": {
     "name": "#%% md\n"
    }
   },
   "source": [
    "Based on the plot above, we may use some resampling methods later."
   ]
  },
  {
   "cell_type": "markdown",
   "metadata": {
    "pycharm": {
     "name": "#%% md\n"
    }
   },
   "source": [
    "## Missing data:"
   ]
  },
  {
   "cell_type": "markdown",
   "metadata": {
    "pycharm": {
     "name": "#%% md\n"
    }
   },
   "source": [
    "Percentage of missing values in each column:"
   ]
  },
  {
   "cell_type": "code",
   "execution_count": 12,
   "metadata": {
    "pycharm": {
     "name": "#%%\n"
    },
    "scrolled": false
   },
   "outputs": [
    {
     "data": {
      "text/plain": [
       "HR                   9.952611\n",
       "O2Sat               13.120266\n",
       "Temp                66.091251\n",
       "SBP                 14.710585\n",
       "MAP                 12.551122\n",
       "DBP                 31.222402\n",
       "Resp                15.460834\n",
       "EtCO2               96.539956\n",
       "BaseExcess          94.592597\n",
       "HCO3                95.882446\n",
       "FiO2                91.843321\n",
       "pH                  93.096075\n",
       "PaCO2               94.488598\n",
       "SaO2                96.547905\n",
       "AST                 98.430481\n",
       "BUN                 93.185898\n",
       "Alkalinephos        98.447173\n",
       "Calcium             94.189320\n",
       "Chloride            95.525670\n",
       "Creatinine          93.950984\n",
       "Bilirubin_direct    99.815319\n",
       "Glucose             82.850280\n",
       "Lactate             97.391421\n",
       "Magnesium           93.747491\n",
       "Phosphate           96.056660\n",
       "Potassium           90.725169\n",
       "Bilirubin_total     98.551834\n",
       "TroponinI           99.035925\n",
       "Hct                 91.158519\n",
       "Hgb                 92.644177\n",
       "PTT                 97.114797\n",
       "WBC                 93.637266\n",
       "Fibrinogen          99.365277\n",
       "Platelets           94.102014\n",
       "Age                  0.000000\n",
       "Gender               0.000000\n",
       "Unit1               38.910491\n",
       "Unit2               38.910491\n",
       "HospAdmTime          0.000000\n",
       "ICULOS               0.000000\n",
       "PatientID            0.000000\n",
       "dtype: float64"
      ]
     },
     "execution_count": 12,
     "metadata": {},
     "output_type": "execute_result"
    }
   ],
   "source": [
    "missing = train_df.isnull().sum()*100/len(train_df.index)\n",
    "missing"
   ]
  },
  {
   "cell_type": "code",
   "execution_count": 16,
   "metadata": {
    "pycharm": {
     "name": "#%%\n"
    },
    "scrolled": true
   },
   "outputs": [
    {
     "data": {
      "image/png": "[encoded data removed]",
      "text/plain": [
       "<Figure size 1080x288 with 1 Axes>"
      ]
     },
     "metadata": {
      "needs_background": "light"
     },
     "output_type": "display_data"
    }
   ],
   "source": [
    "import matplotlib.pyplot as plt\n",
    "missing.plot.bar(figsize=(15,4), color='Blue')\n",
    "plt.title(\"% of missing values in each column\")\n",
    "plt.ylabel('Percentage')\n",
    "plt.show()"
   ]
  },
  {
   "cell_type": "markdown",
   "metadata": {
    "pycharm": {
     "name": "#%% md\n"
    }
   },
   "source": [
    "It seems that most of the laboratory values are missing, we might use it later to decide which columns are useful and bring any value.\n",
    "The vital sign EtCO2 is missing in 96.54% of the rows (yet still vital). End-Tidal CO2 is the amount of carbon dioxide (CO2) in exhaled air, which assesses ventilation. So a high ETCO2 is a good sign of good ventilation, while low ETCO2 is bad sign that represents hypoventilation.\n",
    "As expected, the age and the gender (demographic) are known for all the patients (no missing data).\n",
    "From this observation only, the following list may be our chosen feature set:"
   ]
  },
  {
   "cell_type": "markdown",
   "metadata": {
    "pycharm": {
     "name": "#%% md\n"
    }
   },
   "source": [
    "## Analysis:"
   ]
  },
  {
   "cell_type": "markdown",
   "metadata": {
    "pycharm": {
     "name": "#%% md\n"
    }
   },
   "source": [
    "Some important stats:"
   ]
  },
  {
   "cell_type": "code",
   "execution_count": 20,
   "metadata": {
    "pycharm": {
     "name": "#%%\n"
    }
   },
   "outputs": [
    {
     "data": {
      "text/html": [
       "<div>\n",
       "<style scoped>\n",
       "    .dataframe tbody tr th:only-of-type {\n",
       "        vertical-align: middle;\n",
       "    }\n",
       "\n",
       "    .dataframe tbody tr th {\n",
       "        vertical-align: top;\n",
       "    }\n",
       "\n",
       "    .dataframe thead th {\n",
       "        text-align: right;\n",
       "    }\n",
       "</style>\n",
       "<table border=\"1\" class=\"dataframe\">\n",
       "  <thead>\n",
       "    <tr style=\"text-align: right;\">\n",
       "      <th></th>\n",
       "      <th>count</th>\n",
       "      <th>mean</th>\n",
       "      <th>std</th>\n",
       "      <th>min</th>\n",
       "      <th>25%</th>\n",
       "      <th>50%</th>\n",
       "      <th>75%</th>\n",
       "      <th>max</th>\n",
       "    </tr>\n",
       "  </thead>\n",
       "  <tbody>\n",
       "    <tr>\n",
       "      <th>HR</th>\n",
       "      <td>679693.0</td>\n",
       "      <td>84.558897</td>\n",
       "      <td>17.344198</td>\n",
       "      <td>20.0</td>\n",
       "      <td>72.0</td>\n",
       "      <td>83.0</td>\n",
       "      <td>95.5</td>\n",
       "      <td>280.0</td>\n",
       "    </tr>\n",
       "    <tr>\n",
       "      <th>O2Sat</th>\n",
       "      <td>655783.0</td>\n",
       "      <td>97.196002</td>\n",
       "      <td>2.944657</td>\n",
       "      <td>20.0</td>\n",
       "      <td>96.0</td>\n",
       "      <td>98.0</td>\n",
       "      <td>99.5</td>\n",
       "      <td>100.0</td>\n",
       "    </tr>\n",
       "    <tr>\n",
       "      <th>Temp</th>\n",
       "      <td>255949.0</td>\n",
       "      <td>36.972567</td>\n",
       "      <td>0.770627</td>\n",
       "      <td>20.9</td>\n",
       "      <td>36.5</td>\n",
       "      <td>37.0</td>\n",
       "      <td>37.5</td>\n",
       "      <td>50.0</td>\n",
       "    </tr>\n",
       "    <tr>\n",
       "      <th>SBP</th>\n",
       "      <td>643779.0</td>\n",
       "      <td>123.550546</td>\n",
       "      <td>23.130050</td>\n",
       "      <td>20.0</td>\n",
       "      <td>107.0</td>\n",
       "      <td>121.0</td>\n",
       "      <td>138.0</td>\n",
       "      <td>299.0</td>\n",
       "    </tr>\n",
       "    <tr>\n",
       "      <th>MAP</th>\n",
       "      <td>660079.0</td>\n",
       "      <td>82.335320</td>\n",
       "      <td>16.282437</td>\n",
       "      <td>20.0</td>\n",
       "      <td>71.0</td>\n",
       "      <td>80.0</td>\n",
       "      <td>92.0</td>\n",
       "      <td>300.0</td>\n",
       "    </tr>\n",
       "  </tbody>\n",
       "</table>\n",
       "</div>"
      ],
      "text/plain": [
       "          count        mean        std   min    25%    50%    75%    max\n",
       "HR     679693.0   84.558897  17.344198  20.0   72.0   83.0   95.5  280.0\n",
       "O2Sat  655783.0   97.196002   2.944657  20.0   96.0   98.0   99.5  100.0\n",
       "Temp   255949.0   36.972567   0.770627  20.9   36.5   37.0   37.5   50.0\n",
       "SBP    643779.0  123.550546  23.130050  20.0  107.0  121.0  138.0  299.0\n",
       "MAP    660079.0   82.335320  16.282437  20.0   71.0   80.0   92.0  300.0"
      ]
     },
     "execution_count": 20,
     "metadata": {},
     "output_type": "execute_result"
    }
   ],
   "source": [
    "train_stats = train_df.describe()\n",
    "train_stats.T.head() # Example:"
   ]
  },
  {
   "cell_type": "code",
   "execution_count": 21,
   "metadata": {
    "pycharm": {
     "name": "#%%\n"
    }
   },
   "outputs": [],
   "source": [
    "# Find IDs of positive patients ('SepsisLabel' == 1):\n",
    "positive_idx = labels.loc[labels['label'] == 1].index\n",
    "positive = train_df.loc[train_df['PatientID'].isin(positive_idx)]\n",
    "# Find ID's of negative patients ('SepsisLabel' == 0):\n",
    "negative_idx = labels.loc[labels['label'] == 0].index\n",
    "negative = train_df.loc[train_df['PatientID'].isin(negative_idx)]"
   ]
  },
  {
   "cell_type": "markdown",
   "metadata": {},
   "source": [
    "<code>ICU_duration.loc[k]</code> returns total hours that <code>patient_k.psv</code> was in ICU:"
   ]
  },
  {
   "cell_type": "code",
   "execution_count": 25,
   "metadata": {
    "pycharm": {
     "name": "#%%\n"
    }
   },
   "outputs": [
    {
     "data": {
      "text/plain": [
       "14339    336\n",
       "12953    336\n",
       "17925    336\n",
       "2137     331\n",
       "151      327\n",
       "        ... \n",
       "11242      1\n",
       "8730       1\n",
       "12398      1\n",
       "4568       1\n",
       "3553       1\n",
       "Name: PatientID, Length: 20000, dtype: int64"
      ]
     },
     "execution_count": 25,
     "metadata": {},
     "output_type": "execute_result"
    }
   ],
   "source": [
    "ICU_duration = train_df.PatientID.value_counts()\n",
    "ICU_duration"
   ]
  },
  {
   "cell_type": "code",
   "execution_count": 29,
   "metadata": {},
   "outputs": [
    {
     "name": "stdout",
     "output_type": "stream",
     "text": [
      "We can observe the long right tail:\n"
     ]
    },
    {
     "data": {
      "image/png": "[encoded data removed]",
      "text/plain": [
       "<Figure size 792x216 with 1 Axes>"
      ]
     },
     "metadata": {
      "needs_background": "light"
     },
     "output_type": "display_data"
    }
   ],
   "source": [
    "print(\"We can observe the long right tail:\")\n",
    "plt.figure(figsize=(11, 3))\n",
    "ICU_duration.hist(bins='auto', color='Red', alpha=0.7)\n",
    "plt.title('Hours in ICU')\n",
    "plt.xlabel('Hours')\n",
    "plt.ylabel('Counts')\n",
    "plt.show()"
   ]
  },
  {
   "cell_type": "markdown",
   "metadata": {},
   "source": [
    " For example, patients who left ICU after 1 hour only and their corresponding labels. Note that all the labels appear to be positive:"
   ]
  },
  {
   "cell_type": "code",
   "execution_count": 33,
   "metadata": {
    "pycharm": {
     "name": "#%%\n"
    }
   },
   "outputs": [
    {
     "data": {
      "text/html": [
       "<div>\n",
       "<style scoped>\n",
       "    .dataframe tbody tr th:only-of-type {\n",
       "        vertical-align: middle;\n",
       "    }\n",
       "\n",
       "    .dataframe tbody tr th {\n",
       "        vertical-align: top;\n",
       "    }\n",
       "\n",
       "    .dataframe thead th {\n",
       "        text-align: right;\n",
       "    }\n",
       "</style>\n",
       "<table border=\"1\" class=\"dataframe\">\n",
       "  <thead>\n",
       "    <tr style=\"text-align: right;\">\n",
       "      <th></th>\n",
       "      <th>label</th>\n",
       "    </tr>\n",
       "  </thead>\n",
       "  <tbody>\n",
       "    <tr>\n",
       "      <th>2901</th>\n",
       "      <td>1</td>\n",
       "    </tr>\n",
       "    <tr>\n",
       "      <th>18393</th>\n",
       "      <td>1</td>\n",
       "    </tr>\n",
       "    <tr>\n",
       "      <th>5000</th>\n",
       "      <td>1</td>\n",
       "    </tr>\n",
       "    <tr>\n",
       "      <th>6300</th>\n",
       "      <td>1</td>\n",
       "    </tr>\n",
       "    <tr>\n",
       "      <th>7324</th>\n",
       "      <td>1</td>\n",
       "    </tr>\n",
       "    <tr>\n",
       "      <th>...</th>\n",
       "      <td>...</td>\n",
       "    </tr>\n",
       "    <tr>\n",
       "      <th>11242</th>\n",
       "      <td>1</td>\n",
       "    </tr>\n",
       "    <tr>\n",
       "      <th>8730</th>\n",
       "      <td>1</td>\n",
       "    </tr>\n",
       "    <tr>\n",
       "      <th>12398</th>\n",
       "      <td>1</td>\n",
       "    </tr>\n",
       "    <tr>\n",
       "      <th>4568</th>\n",
       "      <td>1</td>\n",
       "    </tr>\n",
       "    <tr>\n",
       "      <th>3553</th>\n",
       "      <td>1</td>\n",
       "    </tr>\n",
       "  </tbody>\n",
       "</table>\n",
       "<p>198 rows × 1 columns</p>\n",
       "</div>"
      ],
      "text/plain": [
       "       label\n",
       "2901       1\n",
       "18393      1\n",
       "5000       1\n",
       "6300       1\n",
       "7324       1\n",
       "...      ...\n",
       "11242      1\n",
       "8730       1\n",
       "12398      1\n",
       "4568       1\n",
       "3553       1\n",
       "\n",
       "[198 rows x 1 columns]"
      ]
     },
     "execution_count": 33,
     "metadata": {},
     "output_type": "execute_result"
    }
   ],
   "source": [
    "labels.loc[ICU_duration.loc[ICU_duration == 1].index]"
   ]
  },
  {
   "cell_type": "markdown",
   "metadata": {},
   "source": [
    "Approx 200 patients as seen in the histogram above. We can clearly see that there are patients who were in ICU for only one hour, mostly positive (<code>SepsisLabel == 1</code>). A possible reason for this is that they passed away, but it's just an assumption. "
   ]
  },
  {
   "cell_type": "markdown",
   "metadata": {},
   "source": [
    "The average time in ICU:"
   ]
  },
  {
   "cell_type": "code",
   "execution_count": 34,
   "metadata": {
    "pycharm": {
     "name": "#%%\n"
    }
   },
   "outputs": [
    {
     "name": "stdout",
     "output_type": "stream",
     "text": [
      "37.74085\n"
     ]
    }
   ],
   "source": [
    "print(ICU_duration.mean())"
   ]
  },
  {
   "cell_type": "code",
   "execution_count": null,
   "metadata": {
    "pycharm": {
     "name": "#%%\n"
    }
   },
   "outputs": [],
   "source": [
    "df1 = train_df.copy() # df1: train_df with SepsisLabel\n",
    "df1['SepsisLabel'] = df1['PatientID'].apply(lambda id: int(labels.loc[id]))"
   ]
  },
  {
   "cell_type": "markdown",
   "metadata": {},
   "source": [
    "A deeper look at the distributions of the vital signs:"
   ]
  },
  {
   "cell_type": "code",
   "execution_count": 35,
   "metadata": {
    "pycharm": {
     "name": "#%%\n"
    }
   },
   "outputs": [
    {
     "data": {
      "image/png": "[encoded data removed]",
      "text/plain": [
       "<Figure size 1152x576 with 8 Axes>"
      ]
     },
     "metadata": {
      "needs_background": "light"
     },
     "output_type": "display_data"
    }
   ],
   "source": [
    "plt.figure(figsize=(16,8))\n",
    "plt.subplots_adjust(hspace = .3, wspace=.3)\n",
    "for i, column in enumerate(list(vital), 1):\n",
    "    plt.subplot(4,2,i)\n",
    "    positive[column].hist(bins='auto', color='Orange', density=1, alpha=0.7, label='Sepsis')\n",
    "    negative[column].hist(bins='auto', color='Green', density=1, alpha=0.3, label='No Sepsis')\n",
    "    plt.legend(loc=\"upper right\")\n",
    "    plt.title(column)\n",
    "    plt.ylabel('Density')\n",
    "plt.suptitle('Vital Signs')\n",
    "plt.show()"
   ]
  },
  {
   "cell_type": "markdown",
   "metadata": {},
   "source": [
    "<b>Feature selection:</b> We can see some minor changes in the disributuons, depend on the class. for example, <code>Resp</code>. We think we won't use <code>EtCO2</code> because it's missing as we saw before and the distributions look same. Same routine for <code>SBP</code>, the plots look the same. Based on the missing data percents we saw before and the distribution (plots) we decide which features to use. The administrative features doens't tell a lot, so we will drop them too."
   ]
  },
  {
   "cell_type": "markdown",
   "metadata": {
    "pycharm": {
     "name": "#%%\n"
    }
   },
   "source": [
    "## Hypothesis Testing:"
   ]
  },
  {
   "cell_type": "markdown",
   "metadata": {
    "pycharm": {
     "name": "#%% md\n"
    }
   },
   "source": [
    "We will try to compare the means of the heart <code>HR</code> rate in the classes. Based on Wikipedia, this feature value should be higher if <code>SepsisLabel == 1</code>. We use the last value measured for each patient (to simulate the closest time to start of Sepsis)."
   ]
  },
  {
   "cell_type": "code",
   "execution_count": 36,
   "metadata": {},
   "outputs": [],
   "source": [
    "hr_1 = []\n",
    "for patient_id, group in positive.groupby('PatientID'):\n",
    "    if group['HR'].isnull().sum() == len(group.index):\n",
    "        continue\n",
    "    valid = group['HR'].last_valid_index()\n",
    "    hr_1.append(group.iloc[valid]['HR'])"
   ]
  },
  {
   "cell_type": "code",
   "execution_count": 37,
   "metadata": {},
   "outputs": [],
   "source": [
    "hr_0 = []\n",
    "for patient_id, group in negative.groupby('PatientID'):\n",
    "    if group['HR'].isnull().sum() == len(group.index):\n",
    "        continue\n",
    "    valid = group['HR'].last_valid_index()\n",
    "    hr_0.append(group.iloc[valid]['HR'])"
   ]
  },
  {
   "cell_type": "markdown",
   "metadata": {},
   "source": [
    "Now lets run a simple $T-test$:"
   ]
  },
  {
   "cell_type": "code",
   "execution_count": 38,
   "metadata": {},
   "outputs": [
    {
     "name": "stdout",
     "output_type": "stream",
     "text": [
      "Confidence intervals:\n",
      "No Speis:\t(82.9474685276275, 83.42186738885081)\n",
      "Sepsis:\t(89.20450501643772, 91.30759175775582)\n"
     ]
    }
   ],
   "source": [
    "import scipy.stats as st\n",
    "print(\"Confidence intervals:\")\n",
    "print(\"No Speis:\\t{}\".format(st.t.interval(0.95, len(hr_0)-1, loc=np.mean(hr_0), scale=st.sem(hr_0))))\n",
    "print(\"Sepsis:\\t{}\".format(st.t.interval(0.95, len(hr_1)-1, loc=np.mean(hr_1), scale=st.sem(hr_1))))"
   ]
  },
  {
   "cell_type": "code",
   "execution_count": 39,
   "metadata": {},
   "outputs": [
    {
     "data": {
      "text/plain": [
       "Ttest_indResult(statistic=-12.869248117914394, pvalue=3.677158886752607e-36)"
      ]
     },
     "execution_count": 39,
     "metadata": {},
     "output_type": "execute_result"
    }
   ],
   "source": [
    "st.ttest_ind(hr_0, hr_1, equal_var=False, alternative='less')"
   ]
  },
  {
   "cell_type": "markdown",
   "metadata": {},
   "source": [
    "We can see how significant the results are. The $Pval$ is in fact $0$ and we can say that the mean of the negative class is smaller than the mean of the positive class (based on the last hour, a moment before the first positive label (Sepsis starts). The confidence intervals tells how big is the difference. "
   ]
  }
 ],
 "metadata": {
  "kernelspec": {
   "display_name": "Python 3 (ipykernel)",
   "language": "python",
   "name": "python3"
  },
  "language_info": {
   "codemirror_mode": {
    "name": "ipython",
    "version": 3
   },
   "file_extension": ".py",
   "mimetype": "text/x-python",
   "name": "python",
   "nbconvert_exporter": "python",
   "pygments_lexer": "ipython3",
   "version": "3.8.13"
  }
 },
 "nbformat": 4,
 "nbformat_minor": 1
}
